{
 "cells": [
  {
   "cell_type": "code",
   "execution_count": 134,
   "metadata": {},
   "outputs": [],
   "source": [
    "from sympy import *\n",
    "from IPython.display import display, Math"
   ]
  },
  {
   "cell_type": "code",
   "execution_count": 135,
   "metadata": {},
   "outputs": [],
   "source": [
    "c = symbols('c', nonzero=True, real=True, infinite=False)\n",
    "c1 = symbols('c_1', nonzero=True, real=True, infinite=False)\n",
    "c2 = symbols('c_2', nonzero=True, real=True, infinite=False)\n",
    "v = symbols('v', nonzero=True, real=True, infinite=False) #d was replaced with v for clarity. (v = normalize(pixel position - camera position))\n",
    "sigma_tc = symbols('sigma_t', nonzero=True, real=True, infinite=False)\n",
    "sigma_ac = symbols('sigma_a', positive=True, real=True, infinite=False)\n",
    "sigma_sc = symbols('sigma_s', positive=True, nonzero=True, real=True, infinite=False)\n",
    "o = symbols('o', real=True, infinite=False)\n",
    "u = symbols('u', real=True)\n",
    "t = symbols('t', real=True)\n",
    "t2 = symbols('t_2', real=True)\n",
    "D = symbols('D', real=True, infinite=False, positive=True)\n",
    "a = symbols('a', real=True, infinite=False, positive=True)\n",
    "b = symbols('b', real=True, infinite=False, positive=True)\n",
    "l_i = symbols('l_i')"
   ]
  },
  {
   "cell_type": "code",
   "execution_count": 136,
   "metadata": {},
   "outputs": [],
   "source": [
    "def sigma_a(y):\n",
    "    return sigma_ac*exp(-y/c)\n",
    "def sigma_s(y):\n",
    "    return sigma_sc*exp(-y/c)\n",
    "def sigma_t(y):\n",
    "    return sigma_tc*exp(-y/c)"
   ]
  },
  {
   "cell_type": "code",
   "execution_count": 137,
   "metadata": {},
   "outputs": [
    {
     "data": {
      "text/latex": [
       "$\\displaystyle \\int\\limits_{0}^{D} \\sigma_{t} e^{\\frac{- o - t v}{c}}\\, dt$"
      ],
      "text/plain": [
       "Integral(sigma_t*exp((-o - t*v)/c), (t, 0, D))"
      ]
     },
     "execution_count": 137,
     "metadata": {},
     "output_type": "execute_result"
    }
   ],
   "source": [
    "i = Integral(sigma_t(o+t*v), (t,0,D))\n",
    "i"
   ]
  },
  {
   "cell_type": "code",
   "execution_count": 138,
   "metadata": {},
   "outputs": [
    {
     "data": {
      "text/latex": [
       "$\\displaystyle - \\frac{c \\sigma_{t} e^{\\frac{- D v - o}{c}}}{v} + \\frac{c \\sigma_{t} e^{- \\frac{o}{c}}}{v}$"
      ],
      "text/plain": [
       "-c*sigma_t*exp((-D*v - o)/c)/v + c*sigma_t*exp(-o/c)/v"
      ]
     },
     "execution_count": 138,
     "metadata": {},
     "output_type": "execute_result"
    }
   ],
   "source": [
    "i.doit()"
   ]
  },
  {
   "cell_type": "code",
   "execution_count": 139,
   "metadata": {},
   "outputs": [],
   "source": [
    "def transmittanceIntegral(o,d,D, sigma):\n",
    "    return (-(c*sigma*exp((-D*d-o)/c)/d) + (c*sigma*exp(-o/c)/d) )"
   ]
  },
  {
   "cell_type": "code",
   "execution_count": 140,
   "metadata": {},
   "outputs": [],
   "source": [
    "def L_s(y): #in scatterd light at height\n",
    "    return sigma_s(y)*l_i"
   ]
  },
  {
   "cell_type": "code",
   "execution_count": 141,
   "metadata": {},
   "outputs": [
    {
     "data": {
      "text/latex": [
       "$\\displaystyle \\int\\limits_{0}^{D} l_{i} \\sigma_{s} e^{\\frac{- o - t v}{c}} e^{\\frac{c \\left(\\sigma_{a} + \\sigma_{s}\\right) e^{\\frac{- o - t v}{c}}}{v} - \\frac{c \\left(\\sigma_{a} + \\sigma_{s}\\right) e^{- \\frac{o}{c}}}{v}}\\, dt$"
      ],
      "text/plain": [
       "Integral(l_i*sigma_s*exp((-o - t*v)/c)*exp(c*(sigma_a + sigma_s)*exp((-o - t*v)/c)/v - c*(sigma_a + sigma_s)*exp(-o/c)/v), (t, 0, D))"
      ]
     },
     "execution_count": 141,
     "metadata": {},
     "output_type": "execute_result"
    }
   ],
   "source": [
    "iInsNotAbsorbedAndNotScattered = Integral(exp(-transmittanceIntegral(o, v, t, sigma_ac+sigma_sc)) * L_s(o+t*v), (t, 0, D))\n",
    "iInsNotAbsorbedAndNotScattered"
   ]
  },
  {
   "cell_type": "code",
   "execution_count": 142,
   "metadata": {},
   "outputs": [
    {
     "data": {
      "text/latex": [
       "$\\displaystyle - \\frac{l_{i} \\sigma_{s} e^{\\frac{c \\left(\\sigma_{a} + \\sigma_{s}\\right) e^{\\frac{- D v - o}{c}}}{v} - \\frac{c \\left(\\sigma_{a} + \\sigma_{s}\\right) e^{- \\frac{o}{c}}}{v}}}{\\sigma_{a} + \\sigma_{s}} + \\frac{l_{i} \\sigma_{s}}{\\sigma_{a} + \\sigma_{s}}$"
      ],
      "text/plain": [
       "-l_i*sigma_s*exp(c*(sigma_a + sigma_s)*exp((-D*v - o)/c)/v - c*(sigma_a + sigma_s)*exp(-o/c)/v)/(sigma_a + sigma_s) + l_i*sigma_s/(sigma_a + sigma_s)"
      ]
     },
     "execution_count": 142,
     "metadata": {},
     "output_type": "execute_result"
    }
   ],
   "source": [
    "iInsNotAbsorbedAndNotScattered.doit()"
   ]
  },
  {
   "cell_type": "code",
   "execution_count": 143,
   "metadata": {},
   "outputs": [
    {
     "data": {
      "text/latex": [
       "$\\displaystyle \\int\\limits_{0}^{D} l_{i} \\sigma_{s} e^{\\frac{- o - t v}{c}} e^{\\frac{c \\sigma_{a} e^{\\frac{- o - t v}{c}}}{v} - \\frac{c \\sigma_{a} e^{- \\frac{o}{c}}}{v}}\\, dt$"
      ],
      "text/plain": [
       "Integral(l_i*sigma_s*exp((-o - t*v)/c)*exp(c*sigma_a*exp((-o - t*v)/c)/v - c*sigma_a*exp(-o/c)/v), (t, 0, D))"
      ]
     },
     "execution_count": 143,
     "metadata": {},
     "output_type": "execute_result"
    }
   ],
   "source": [
    "iInsNotAbsorbed = Integral(exp(-transmittanceIntegral(o, v, t, sigma_ac)) * L_s(o+t*v), (t, 0, D))\n",
    "iInsNotAbsorbed"
   ]
  },
  {
   "cell_type": "code",
   "execution_count": 144,
   "metadata": {},
   "outputs": [
    {
     "data": {
      "text/latex": [
       "$\\displaystyle - \\frac{l_{i} \\sigma_{s} e^{\\frac{c \\sigma_{a} e^{\\frac{- D v - o}{c}}}{v} - \\frac{c \\sigma_{a} e^{- \\frac{o}{c}}}{v}}}{\\sigma_{a}} + \\frac{l_{i} \\sigma_{s}}{\\sigma_{a}}$"
      ],
      "text/plain": [
       "-l_i*sigma_s*exp(c*sigma_a*exp((-D*v - o)/c)/v - c*sigma_a*exp(-o/c)/v)/sigma_a + l_i*sigma_s/sigma_a"
      ]
     },
     "execution_count": 144,
     "metadata": {},
     "output_type": "execute_result"
    }
   ],
   "source": [
    "iInsNotAbsorbed.doit()"
   ]
  },
  {
   "cell_type": "code",
   "execution_count": 145,
   "metadata": {},
   "outputs": [
    {
     "data": {
      "text/latex": [
       "$\\displaystyle \\int\\limits_{0}^{D} l_{i} \\sigma_{s} e^{\\frac{- o - t v}{c}}\\, dt$"
      ],
      "text/plain": [
       "Integral(l_i*sigma_s*exp((-o - t*v)/c), (t, 0, D))"
      ]
     },
     "execution_count": 145,
     "metadata": {},
     "output_type": "execute_result"
    }
   ],
   "source": [
    "sigma_ac = 0\n",
    "iInsNoAbsorption = Integral(exp(-transmittanceIntegral(o, v, t, sigma_ac)) * L_s(o+t*v), (t, 0, D))\n",
    "iInsNoAbsorption"
   ]
  },
  {
   "cell_type": "code",
   "execution_count": null,
   "metadata": {},
   "outputs": [],
   "source": []
  },
  {
   "cell_type": "code",
   "execution_count": 146,
   "metadata": {},
   "outputs": [
    {
     "data": {
      "text/latex": [
       "$\\displaystyle - \\frac{c l_{i} \\sigma_{s} e^{\\frac{- D v - o}{c}}}{v} + \\frac{c l_{i} \\sigma_{s} e^{- \\frac{o}{c}}}{v}$"
      ],
      "text/plain": [
       "-c*l_i*sigma_s*exp((-D*v - o)/c)/v + c*l_i*sigma_s*exp(-o/c)/v"
      ]
     },
     "execution_count": 146,
     "metadata": {},
     "output_type": "execute_result"
    }
   ],
   "source": [
    "l = iInsNoAbsorption.doit()\n",
    "l"
   ]
  },
  {
   "cell_type": "code",
   "execution_count": 147,
   "metadata": {},
   "outputs": [
    {
     "data": {
      "text/latex": [
       "$\\displaystyle \\int\\limits_{0}^{D} l_{i} \\sigma_{s} e^{- \\frac{o}{c}}\\, dt$"
      ],
      "text/plain": [
       "Integral(l_i*sigma_s*exp(-o/c), (t, 0, D))"
      ]
     },
     "execution_count": 147,
     "metadata": {},
     "output_type": "execute_result"
    }
   ],
   "source": [
    "iInsNoAbsorptionVZero = iInsNoAbsorption.subs(v,0)\n",
    "iInsNoAbsorptionVZero"
   ]
  },
  {
   "cell_type": "code",
   "execution_count": 148,
   "metadata": {},
   "outputs": [
    {
     "data": {
      "text/latex": [
       "$\\displaystyle D l_{i} \\sigma_{s} e^{- \\frac{o}{c}}$"
      ],
      "text/plain": [
       "D*l_i*sigma_s*exp(-o/c)"
      ]
     },
     "execution_count": 148,
     "metadata": {},
     "output_type": "execute_result"
    }
   ],
   "source": [
    "iInsNoAbsorptionVZero.doit()"
   ]
  }
 ],
 "metadata": {
  "kernelspec": {
   "display_name": "Python 3",
   "language": "python",
   "name": "python3"
  },
  "language_info": {
   "codemirror_mode": {
    "name": "ipython",
    "version": 3
   },
   "file_extension": ".py",
   "mimetype": "text/x-python",
   "name": "python",
   "nbconvert_exporter": "python",
   "pygments_lexer": "ipython3",
   "version": "3.9.5"
  },
  "orig_nbformat": 4,
  "vscode": {
   "interpreter": {
    "hash": "085c51388782ab7dcc7b32a500f9634129d1cddb82cd7a37058a5984251a0bc1"
   }
  }
 },
 "nbformat": 4,
 "nbformat_minor": 2
}
