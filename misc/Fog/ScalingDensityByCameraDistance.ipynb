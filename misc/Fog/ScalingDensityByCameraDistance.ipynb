{
 "cells": [
  {
   "cell_type": "code",
   "execution_count": 180,
   "metadata": {},
   "outputs": [],
   "source": [
    "from sympy import *\n",
    "from IPython.display import display, Math"
   ]
  },
  {
   "cell_type": "code",
   "execution_count": 181,
   "metadata": {},
   "outputs": [],
   "source": [
    "c = symbols('c', nonzero=True, real=True, infinite=False)\n",
    "c1 = symbols('c_1', nonzero=True, real=True, infinite=False)\n",
    "c2 = symbols('c_2', nonzero=True, real=True, infinite=False)\n",
    "v = symbols('v', nonzero=True, real=True, infinite=False) #d was replaced with v for clarity. (v = normalize(pixel position - camera position))\n",
    "sigma_t = symbols('sigma_t', nonzero=True, real=True, infinite=False)\n",
    "o = symbols('o', real=True, infinite=False)\n",
    "u = symbols('u', real=True)\n",
    "t = symbols('t', real=True)\n",
    "t2 = symbols('t_2', real=True)\n",
    "D = symbols('D', real=True, infinite=False, positive=True)\n",
    "a = symbols('a', real=True, infinite=False, positive=True)\n",
    "fadeWidth = symbols('f_w', real=True, positive=True, nonzero=True)\n",
    "b = (a+fadeWidth)\n",
    "# b = symbols('b', real=True, infinite=False, positive=True)"
   ]
  },
  {
   "cell_type": "code",
   "execution_count": 182,
   "metadata": {},
   "outputs": [],
   "source": [
    "def heightFactor(y):\n",
    "    return exp(-y/c)"
   ]
  },
  {
   "attachments": {},
   "cell_type": "markdown",
   "metadata": {},
   "source": [
    "$ e^{- \\int_{0}^{D}{\\sigma_t(t) \\mathrm{d}t}} $"
   ]
  },
  {
   "attachments": {},
   "cell_type": "markdown",
   "metadata": {},
   "source": [
    "Only height based"
   ]
  },
  {
   "cell_type": "code",
   "execution_count": 183,
   "metadata": {},
   "outputs": [
    {
     "data": {
      "text/latex": [
       "$\\displaystyle \\int\\limits_{0}^{D} \\sigma_{t} e^{\\frac{- o - t v}{c}}\\, dt$"
      ],
      "text/plain": [
       "Integral(sigma_t*exp((-o - t*v)/c), (t, 0, D))"
      ]
     },
     "execution_count": 183,
     "metadata": {},
     "output_type": "execute_result"
    }
   ],
   "source": [
    "i = Integral(sigma_t*heightFactor(o+t*v), (t,0,D))\n",
    "i"
   ]
  },
  {
   "cell_type": "code",
   "execution_count": 184,
   "metadata": {},
   "outputs": [
    {
     "data": {
      "text/latex": [
       "$\\displaystyle - \\frac{c \\sigma_{t} e^{\\frac{- D v - o}{c}}}{v} + \\frac{c \\sigma_{t} e^{- \\frac{o}{c}}}{v}$"
      ],
      "text/plain": [
       "-c*sigma_t*exp((-D*v - o)/c)/v + c*sigma_t*exp(-o/c)/v"
      ]
     },
     "execution_count": 184,
     "metadata": {},
     "output_type": "execute_result"
    }
   ],
   "source": [
    "i.doit()"
   ]
  },
  {
   "attachments": {},
   "cell_type": "markdown",
   "metadata": {},
   "source": [
    "or in the case that v=0:"
   ]
  },
  {
   "cell_type": "code",
   "execution_count": 185,
   "metadata": {},
   "outputs": [
    {
     "data": {
      "text/latex": [
       "$\\displaystyle D \\sigma_{t} e^{- \\frac{o}{c}}$"
      ],
      "text/plain": [
       "D*sigma_t*exp(-o/c)"
      ]
     },
     "execution_count": 185,
     "metadata": {},
     "output_type": "execute_result"
    }
   ],
   "source": [
    "D*sigma_t*exp(-o/c)"
   ]
  },
  {
   "attachments": {},
   "cell_type": "markdown",
   "metadata": {},
   "source": [
    "Adding a camera fade by scaling the \"intensity\" of the fog with a factor of $0$ to $1$ between distances $a$ and $b$ to the camera using a weighting factor $w(\\mathrm{depth})$\\\n",
    "(which is of course not physical at all)"
   ]
  },
  {
   "cell_type": "code",
   "execution_count": 186,
   "metadata": {},
   "outputs": [],
   "source": [
    "w = Function('w')"
   ]
  },
  {
   "attachments": {},
   "cell_type": "markdown",
   "metadata": {},
   "source": [
    "When integrating over $o+tv$, $t$ is already the distance from the camera since $v$ is normalized"
   ]
  },
  {
   "cell_type": "code",
   "execution_count": 187,
   "metadata": {},
   "outputs": [
    {
     "data": {
      "text/latex": [
       "$\\displaystyle \\int\\limits_{0}^{D} \\sigma_{t} w{\\left(t \\right)} e^{\\frac{- o - t v}{c}}\\, dt$"
      ],
      "text/plain": [
       "Integral(sigma_t*w(t)*exp((-o - t*v)/c), (t, 0, D))"
      ]
     },
     "execution_count": 187,
     "metadata": {},
     "output_type": "execute_result"
    }
   ],
   "source": [
    "generalIntegral = Integral(w(t)*sigma_t*heightFactor(o+t*v), (t,0,D))\n",
    "generalIntegral"
   ]
  },
  {
   "attachments": {},
   "cell_type": "markdown",
   "metadata": {},
   "source": [
    "which is the same as:"
   ]
  },
  {
   "cell_type": "code",
   "execution_count": 188,
   "metadata": {},
   "outputs": [
    {
     "data": {
      "text/latex": [
       "$\\displaystyle \\int\\limits_{0}^{a} \\sigma_{t} w{\\left(t \\right)} e^{\\frac{- o - t v}{c}}\\, dt + \\int\\limits_{a}^{a + f_{w}} \\sigma_{t} w{\\left(t \\right)} e^{\\frac{- o - t v}{c}}\\, dt + \\int\\limits_{a + f_{w}}^{D} \\sigma_{t} w{\\left(t \\right)} e^{\\frac{- o - t v}{c}}\\, dt$"
      ],
      "text/plain": [
       "Integral(sigma_t*w(t)*exp((-o - t*v)/c), (t, 0, a)) + Integral(sigma_t*w(t)*exp((-o - t*v)/c), (t, a, a + f_w)) + Integral(sigma_t*w(t)*exp((-o - t*v)/c), (t, a + f_w, D))"
      ]
     },
     "execution_count": 188,
     "metadata": {},
     "output_type": "execute_result"
    }
   ],
   "source": [
    "generalIntegral = Integral(w(t)*sigma_t*heightFactor(o+t*v), (t,0,a)) + Integral(w(t)*sigma_t*heightFactor(o+t*v), (t,a,b)) + Integral(w(t)*sigma_t*heightFactor(o+t*v), (t,b,D))\n",
    "generalIntegral"
   ]
  },
  {
   "attachments": {},
   "cell_type": "markdown",
   "metadata": {},
   "source": [
    "Where by definition of the fade, $w(t)$ is $0$ in the bounds of the first integral and $1$ in the bounds of the last integral.\n",
    "This simplifies to "
   ]
  },
  {
   "cell_type": "code",
   "execution_count": 189,
   "metadata": {},
   "outputs": [
    {
     "data": {
      "text/latex": [
       "$\\displaystyle \\int\\limits_{a + f_{w}}^{D} \\sigma_{t} e^{\\frac{- o - t v}{c}}\\, dt + \\int\\limits_{a}^{a + f_{w}} \\sigma_{t} w{\\left(t \\right)} e^{\\frac{- o - t v}{c}}\\, dt$"
      ],
      "text/plain": [
       "Integral(sigma_t*exp((-o - t*v)/c), (t, a + f_w, D)) + Integral(sigma_t*w(t)*exp((-o - t*v)/c), (t, a, a + f_w))"
      ]
     },
     "execution_count": 189,
     "metadata": {},
     "output_type": "execute_result"
    }
   ],
   "source": [
    "generalIntegral = Integral(w(t)*sigma_t*heightFactor(o+t*v), (t,a,b)) + Integral(1*sigma_t*heightFactor(o+t*v), (t,b,D))\n",
    "generalIntegral"
   ]
  },
  {
   "attachments": {},
   "cell_type": "markdown",
   "metadata": {},
   "source": [
    "Solving the last part:"
   ]
  },
  {
   "cell_type": "code",
   "execution_count": 190,
   "metadata": {},
   "outputs": [
    {
     "data": {
      "text/latex": [
       "$\\displaystyle \\int\\limits_{a + f_{w}}^{D} \\sigma_{t} e^{\\frac{- o - t v}{c}}\\, dt$"
      ],
      "text/plain": [
       "Integral(sigma_t*exp((-o - t*v)/c), (t, a + f_w, D))"
      ]
     },
     "execution_count": 190,
     "metadata": {},
     "output_type": "execute_result"
    }
   ],
   "source": [
    "endIntegral = Integral(sigma_t*heightFactor(o+t*v), (t,b,D))\n",
    "endIntegral"
   ]
  },
  {
   "cell_type": "code",
   "execution_count": 191,
   "metadata": {},
   "outputs": [
    {
     "data": {
      "text/latex": [
       "$\\displaystyle \\frac{c \\sigma_{t} e^{\\frac{- o - v \\left(a + f_{w}\\right)}{c}}}{v} - \\frac{c \\sigma_{t} e^{\\frac{- D v - o}{c}}}{v}$"
      ],
      "text/plain": [
       "c*sigma_t*exp((-o - v*(a + f_w))/c)/v - c*sigma_t*exp((-D*v - o)/c)/v"
      ]
     },
     "execution_count": 191,
     "metadata": {},
     "output_type": "execute_result"
    }
   ],
   "source": [
    "endIntegral.doit()"
   ]
  },
  {
   "attachments": {},
   "cell_type": "markdown",
   "metadata": {},
   "source": [
    "Or in case $v=0$"
   ]
  },
  {
   "cell_type": "code",
   "execution_count": 192,
   "metadata": {},
   "outputs": [
    {
     "data": {
      "text/latex": [
       "$\\displaystyle \\sigma_{t} \\left(D - a - f_{w}\\right) e^{- \\frac{o}{c}}$"
      ],
      "text/plain": [
       "sigma_t*(D - a - f_w)*exp(-o/c)"
      ]
     },
     "execution_count": 192,
     "metadata": {},
     "output_type": "execute_result"
    }
   ],
   "source": [
    "simplify(endIntegral.subs(v,0).doit())"
   ]
  },
  {
   "cell_type": "markdown",
   "metadata": {},
   "source": [
    "Solving the middle integral depends on the choice of fade function"
   ]
  },
  {
   "cell_type": "markdown",
   "metadata": {},
   "source": [
    "Simple linear ramp:"
   ]
  },
  {
   "cell_type": "code",
   "execution_count": 193,
   "metadata": {},
   "outputs": [],
   "source": [
    "def linearRamp(x, start, end):\n",
    "    return ((x - start) / (end - start))"
   ]
  },
  {
   "cell_type": "code",
   "execution_count": 194,
   "metadata": {},
   "outputs": [
    {
     "data": {
      "text/latex": [
       "$\\displaystyle \\int\\limits_{a}^{a + f_{w}} \\frac{\\sigma_{t} \\left(- a + t\\right) e^{\\frac{- o - t v}{c}}}{f_{w}}\\, dt$"
      ],
      "text/plain": [
       "Integral(sigma_t*(-a + t)*exp((-o - t*v)/c)/f_w, (t, a, a + f_w))"
      ]
     },
     "execution_count": 194,
     "metadata": {},
     "output_type": "execute_result"
    }
   ],
   "source": [
    "middleIntegralLinear = Integral(linearRamp(t,a,b)*sigma_t*heightFactor(o+t*v), (t,a,b))\n",
    "middleIntegralLinear"
   ]
  },
  {
   "cell_type": "code",
   "execution_count": 195,
   "metadata": {},
   "outputs": [
    {
     "data": {
      "text/latex": [
       "$\\displaystyle \\frac{c^{2} \\sigma_{t} e^{\\frac{- a v - o}{c}}}{f_{w} v^{2}} + \\frac{\\left(a c \\sigma_{t} v - c^{2} \\sigma_{t} - c \\sigma_{t} v \\left(a + f_{w}\\right)\\right) e^{\\frac{- o - v \\left(a + f_{w}\\right)}{c}}}{f_{w} v^{2}}$"
      ],
      "text/plain": [
       "c**2*sigma_t*exp((-a*v - o)/c)/(f_w*v**2) + (a*c*sigma_t*v - c**2*sigma_t - c*sigma_t*v*(a + f_w))*exp((-o - v*(a + f_w))/c)/(f_w*v**2)"
      ]
     },
     "execution_count": 195,
     "metadata": {},
     "output_type": "execute_result"
    }
   ],
   "source": [
    "middleIntegralLinear.doit()"
   ]
  },
  {
   "attachments": {},
   "cell_type": "markdown",
   "metadata": {},
   "source": [
    "TODO: find numerically stable version of this"
   ]
  },
  {
   "attachments": {},
   "cell_type": "markdown",
   "metadata": {},
   "source": [
    "Solving in case that $v=0$"
   ]
  },
  {
   "cell_type": "code",
   "execution_count": 197,
   "metadata": {},
   "outputs": [
    {
     "data": {
      "text/latex": [
       "$\\displaystyle \\int\\limits_{a}^{a + f_{w}} \\frac{\\sigma_{t} \\left(- a + t\\right) e^{- \\frac{o}{c}}}{f_{w}}\\, dt$"
      ],
      "text/plain": [
       "Integral(sigma_t*(-a + t)*exp(-o/c)/f_w, (t, a, a + f_w))"
      ]
     },
     "execution_count": 197,
     "metadata": {},
     "output_type": "execute_result"
    }
   ],
   "source": [
    "middleIntegralLinear0 = middleIntegralLinear.subs(v,0)\n",
    "middleIntegralLinear0"
   ]
  },
  {
   "cell_type": "code",
   "execution_count": 198,
   "metadata": {},
   "outputs": [
    {
     "data": {
      "text/latex": [
       "$\\displaystyle \\frac{f_{w} \\sigma_{t} e^{- \\frac{o}{c}}}{2}$"
      ],
      "text/plain": [
       "f_w*sigma_t*exp(-o/c)/2"
      ]
     },
     "execution_count": 198,
     "metadata": {},
     "output_type": "execute_result"
    }
   ],
   "source": [
    "# middleIntegralLinear0.doit()\n",
    "simplify(middleIntegralLinear0.doit())"
   ]
  },
  {
   "cell_type": "markdown",
   "metadata": {},
   "source": [
    "Another exception occurs when the pixel depth is lower than b, in that case the middle integral is bounded by the pixels depth instead"
   ]
  },
  {
   "cell_type": "code",
   "execution_count": 199,
   "metadata": {},
   "outputs": [
    {
     "data": {
      "text/latex": [
       "$\\displaystyle \\int\\limits_{a}^{D} \\frac{\\sigma_{t} \\left(- a + t\\right) e^{\\frac{- o - t v}{c}}}{f_{w}}\\, dt$"
      ],
      "text/plain": [
       "Integral(sigma_t*(-a + t)*exp((-o - t*v)/c)/f_w, (t, a, D))"
      ]
     },
     "execution_count": 199,
     "metadata": {},
     "output_type": "execute_result"
    }
   ],
   "source": [
    "middleIntegralLinear2 = Integral(linearRamp(t,a,b)*sigma_t*heightFactor(o+t*v), (t,a,D))\n",
    "middleIntegralLinear2"
   ]
  },
  {
   "cell_type": "code",
   "execution_count": 200,
   "metadata": {},
   "outputs": [
    {
     "data": {
      "text/latex": [
       "$\\displaystyle \\frac{c^{2} \\sigma_{t} e^{\\frac{- a v - o}{c}}}{f_{w} v^{2}} + \\frac{\\left(- D c \\sigma_{t} v + a c \\sigma_{t} v - c^{2} \\sigma_{t}\\right) e^{\\frac{- D v - o}{c}}}{f_{w} v^{2}}$"
      ],
      "text/plain": [
       "c**2*sigma_t*exp((-a*v - o)/c)/(f_w*v**2) + (-D*c*sigma_t*v + a*c*sigma_t*v - c**2*sigma_t)*exp((-D*v - o)/c)/(f_w*v**2)"
      ]
     },
     "execution_count": 200,
     "metadata": {},
     "output_type": "execute_result"
    }
   ],
   "source": [
    "middleIntegralLinear2.doit()\n",
    "# middleIntegralLinear2.doit()"
   ]
  },
  {
   "cell_type": "code",
   "execution_count": 201,
   "metadata": {},
   "outputs": [
    {
     "data": {
      "text/latex": [
       "$\\displaystyle \\int\\limits_{a}^{D} \\frac{\\sigma_{t} \\left(- a + t\\right) e^{- \\frac{o}{c}}}{f_{w}}\\, dt$"
      ],
      "text/plain": [
       "Integral(sigma_t*(-a + t)*exp(-o/c)/f_w, (t, a, D))"
      ]
     },
     "execution_count": 201,
     "metadata": {},
     "output_type": "execute_result"
    }
   ],
   "source": [
    "middleIntegralLinear20 = middleIntegralLinear2.subs(v,0)\n",
    "middleIntegralLinear20"
   ]
  },
  {
   "cell_type": "code",
   "execution_count": 202,
   "metadata": {},
   "outputs": [
    {
     "data": {
      "text/latex": [
       "$\\displaystyle \\frac{\\sigma_{t} \\left(D^{2} - 2 D a + a^{2}\\right) e^{- \\frac{o}{c}}}{2 f_{w}}$"
      ],
      "text/plain": [
       "sigma_t*(D**2 - 2*D*a + a**2)*exp(-o/c)/(2*f_w)"
      ]
     },
     "execution_count": 202,
     "metadata": {},
     "output_type": "execute_result"
    }
   ],
   "source": [
    "# middleIntegralLinear20.doit()\n",
    "simplify(middleIntegralLinear20.doit())"
   ]
  }
 ],
 "metadata": {
  "kernelspec": {
   "display_name": "Python 3",
   "language": "python",
   "name": "python3"
  },
  "language_info": {
   "codemirror_mode": {
    "name": "ipython",
    "version": 3
   },
   "file_extension": ".py",
   "mimetype": "text/x-python",
   "name": "python",
   "nbconvert_exporter": "python",
   "pygments_lexer": "ipython3",
   "version": "3.9.5 (tags/v3.9.5:0a7dcbd, May  3 2021, 17:27:52) [MSC v.1928 64 bit (AMD64)]"
  },
  "orig_nbformat": 4,
  "vscode": {
   "interpreter": {
    "hash": "085c51388782ab7dcc7b32a500f9634129d1cddb82cd7a37058a5984251a0bc1"
   }
  }
 },
 "nbformat": 4,
 "nbformat_minor": 2
}
