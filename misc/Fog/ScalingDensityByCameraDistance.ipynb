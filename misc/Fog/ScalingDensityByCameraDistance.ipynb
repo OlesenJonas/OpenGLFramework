{
 "cells": [
  {
   "cell_type": "code",
   "execution_count": 1,
   "metadata": {},
   "outputs": [],
   "source": [
    "from sympy import *\n",
    "from IPython.display import display, Math"
   ]
  },
  {
   "cell_type": "code",
   "execution_count": 2,
   "metadata": {},
   "outputs": [],
   "source": [
    "c = symbols('c', nonzero=True, real=True, infinite=False)\n",
    "c1 = symbols('c_1', nonzero=True, real=True, infinite=False)\n",
    "c2 = symbols('c_2', nonzero=True, real=True, infinite=False)\n",
    "d = symbols('d', nonzero=True, real=True, infinite=False)\n",
    "s = symbols('sigma_t', nonzero=True, real=True, infinite=False)\n",
    "o = symbols('o', real=True, infinite=False)\n",
    "t = symbols('t', real=True)\n",
    "D = symbols('D', real=True, infinite=False, positive=True)\n",
    "a = symbols('a', real=True, infinite=False, positive=True)\n",
    "b = symbols('b', real=True, infinite=False, positive=True)"
   ]
  },
  {
   "cell_type": "code",
   "execution_count": 3,
   "metadata": {},
   "outputs": [
    {
     "data": {
      "text/latex": [
       "$\\displaystyle e^{- \\int\\limits_{a}^{b} \\sigma_{t} e^{\\frac{- d t - o}{c}}\\, dt}$"
      ],
      "text/plain": [
       "exp(-Integral(sigma_t*exp((-d*t - o)/c), (t, a, b)))"
      ]
     },
     "execution_count": 3,
     "metadata": {},
     "output_type": "execute_result"
    }
   ],
   "source": [
    "i = exp(-Integral(s*exp(-(o+t*d)/c), (t,a,b)))\n",
    "i"
   ]
  },
  {
   "cell_type": "code",
   "execution_count": 4,
   "metadata": {},
   "outputs": [
    {
     "data": {
      "text/latex": [
       "$\\displaystyle e^{- \\frac{c \\sigma_{t} e^{\\frac{- a d - o}{c}}}{d} + \\frac{c \\sigma_{t} e^{\\frac{- b d - o}{c}}}{d}}$"
      ],
      "text/plain": [
       "exp(-c*sigma_t*exp((-a*d - o)/c)/d + c*sigma_t*exp((-b*d - o)/c)/d)"
      ]
     },
     "execution_count": 4,
     "metadata": {},
     "output_type": "execute_result"
    }
   ],
   "source": [
    "i.doit()"
   ]
  },
  {
   "attachments": {},
   "cell_type": "markdown",
   "metadata": {},
   "source": [
    "linear scaling with distance"
   ]
  },
  {
   "cell_type": "code",
   "execution_count": 5,
   "metadata": {},
   "outputs": [
    {
     "data": {
      "text/latex": [
       "$\\displaystyle e^{- \\int\\limits_{a}^{b} \\sigma_{t} t e^{\\frac{- d t - o}{c}}\\, dt}$"
      ],
      "text/plain": [
       "exp(-Integral(sigma_t*t*exp((-d*t - o)/c), (t, a, b)))"
      ]
     },
     "execution_count": 5,
     "metadata": {},
     "output_type": "execute_result"
    }
   ],
   "source": [
    "i2 = exp(-Integral(t*s*exp(-(o+t*d)/c), (t,a,b)))\n",
    "i2"
   ]
  },
  {
   "cell_type": "code",
   "execution_count": 6,
   "metadata": {},
   "outputs": [
    {
     "data": {
      "text/latex": [
       "$\\displaystyle e^{\\frac{\\left(- a c d \\sigma_{t} - c^{2} \\sigma_{t}\\right) e^{\\frac{- a d - o}{c}}}{d^{2}} - \\frac{\\left(- b c d \\sigma_{t} - c^{2} \\sigma_{t}\\right) e^{\\frac{- b d - o}{c}}}{d^{2}}}$"
      ],
      "text/plain": [
       "exp((-a*c*d*sigma_t - c**2*sigma_t)*exp((-a*d - o)/c)/d**2 - (-b*c*d*sigma_t - c**2*sigma_t)*exp((-b*d - o)/c)/d**2)"
      ]
     },
     "execution_count": 6,
     "metadata": {},
     "output_type": "execute_result"
    }
   ],
   "source": [
    "i2.doit()"
   ]
  },
  {
   "attachments": {},
   "cell_type": "markdown",
   "metadata": {},
   "source": [
    "smoothstep scaling with distance"
   ]
  },
  {
   "cell_type": "code",
   "execution_count": 7,
   "metadata": {},
   "outputs": [],
   "source": [
    "def smoothstep(edge0, edge1, x):\n",
    "    t = (x - edge0) / (edge1 - edge0)\n",
    "    return (t * t * (3.0 - 2.0 * t))"
   ]
  },
  {
   "cell_type": "code",
   "execution_count": 8,
   "metadata": {},
   "outputs": [
    {
     "data": {
      "text/latex": [
       "$\\displaystyle e^{- \\int\\limits_{a}^{b} \\frac{\\sigma_{t} \\left(3.0 - \\frac{2.0 \\left(- a + t\\right)}{- a + b}\\right) \\left(- a + t\\right)^{2} e^{\\frac{- d t - o}{c_{2}}}}{\\left(- a + b\\right)^{2}}\\, dt}$"
      ],
      "text/plain": [
       "exp(-Integral(sigma_t*(3.0 - 2.0*(-a + t)/(-a + b))*(-a + t)**2*exp((-d*t - o)/c_2)/(-a + b)**2, (t, a, b)))"
      ]
     },
     "execution_count": 8,
     "metadata": {},
     "output_type": "execute_result"
    }
   ],
   "source": [
    "i3 = exp(-Integral(smoothstep(a,b,t)*s*exp(-(o+t*d)/c2), (t,a,b)))\n",
    "i3"
   ]
  },
  {
   "cell_type": "code",
   "execution_count": 9,
   "metadata": {},
   "outputs": [
    {
     "data": {
      "text/latex": [
       "$\\displaystyle e^{- \\begin{cases} - \\frac{\\left(- 6.0 a c_{2}^{3} d \\sigma_{t} + 6.0 b c_{2}^{3} d \\sigma_{t} - 12.0 c_{2}^{4} \\sigma_{t}\\right) e^{\\frac{- a d - o}{c_{2}}}}{1.0 a^{3} d^{4} - 3.0 a^{2} b d^{4} + 3.0 a b^{2} d^{4} - 1.0 b^{3} d^{4}} + \\frac{\\left(- 1.0 a^{3} c_{2} d^{3} \\sigma_{t} + 3.0 a^{2} b c_{2} d^{3} \\sigma_{t} - 3.0 a b^{2} c_{2} d^{3} \\sigma_{t} + 6.0 a c_{2}^{3} d \\sigma_{t} + 1.0 b^{3} c_{2} d^{3} \\sigma_{t} - 6.0 b c_{2}^{3} d \\sigma_{t} - 12.0 c_{2}^{4} \\sigma_{t}\\right) e^{\\frac{- b d - o}{c_{2}}}}{1.0 a^{3} d^{4} - 3.0 a^{2} b d^{4} + 3.0 a b^{2} d^{4} - 1.0 b^{3} d^{4}} & \\text{for}\\: 1.0 a^{3} d^{4} - 3.0 a^{2} b d^{4} + 3.0 a b^{2} d^{4} - 1.0 b^{3} d^{4} \\neq 0 \\\\- \\frac{2.0 a^{4} \\sigma_{t}}{4.0 a^{3} - 12.0 a^{2} b + 12.0 a b^{2} - 4.0 b^{3}} - \\frac{6.0 a^{3} b \\sigma_{t}}{2.0 a^{3} - 6.0 a^{2} b + 6.0 a b^{2} - 2.0 b^{3}} - \\frac{a^{3} \\left(- 3.0 a \\sigma_{t} - 3.0 b \\sigma_{t}\\right)}{3.0 a^{3} - 9.0 a^{2} b + 9.0 a b^{2} - 3.0 b^{3}} + \\frac{6.0 a b^{3} \\sigma_{t}}{2.0 a^{3} - 6.0 a^{2} b + 6.0 a b^{2} - 2.0 b^{3}} - \\frac{a \\left(1.0 a^{3} \\sigma_{t} - 3.0 a^{2} b \\sigma_{t}\\right)}{1.0 a^{3} - 3.0 a^{2} b + 3.0 a b^{2} - 1.0 b^{3}} + \\frac{2.0 b^{4} \\sigma_{t}}{4.0 a^{3} - 12.0 a^{2} b + 12.0 a b^{2} - 4.0 b^{3}} + \\frac{b^{3} \\left(- 3.0 a \\sigma_{t} - 3.0 b \\sigma_{t}\\right)}{3.0 a^{3} - 9.0 a^{2} b + 9.0 a b^{2} - 3.0 b^{3}} + \\frac{b \\left(1.0 a^{3} \\sigma_{t} - 3.0 a^{2} b \\sigma_{t}\\right)}{1.0 a^{3} - 3.0 a^{2} b + 3.0 a b^{2} - 1.0 b^{3}} & \\text{otherwise} \\end{cases}}$"
      ],
      "text/plain": [
       "exp(-Piecewise((-(-6.0*a*c_2**3*d*sigma_t + 6.0*b*c_2**3*d*sigma_t - 12.0*c_2**4*sigma_t)*exp((-a*d - o)/c_2)/(1.0*a**3*d**4 - 3.0*a**2*b*d**4 + 3.0*a*b**2*d**4 - 1.0*b**3*d**4) + (-1.0*a**3*c_2*d**3*sigma_t + 3.0*a**2*b*c_2*d**3*sigma_t - 3.0*a*b**2*c_2*d**3*sigma_t + 6.0*a*c_2**3*d*sigma_t + 1.0*b**3*c_2*d**3*sigma_t - 6.0*b*c_2**3*d*sigma_t - 12.0*c_2**4*sigma_t)*exp((-b*d - o)/c_2)/(1.0*a**3*d**4 - 3.0*a**2*b*d**4 + 3.0*a*b**2*d**4 - 1.0*b**3*d**4), Ne(1.0*a**3*d**4 - 3.0*a**2*b*d**4 + 3.0*a*b**2*d**4 - 1.0*b**3*d**4, 0)), (-2.0*a**4*sigma_t/(4.0*a**3 - 12.0*a**2*b + 12.0*a*b**2 - 4.0*b**3) - 6.0*a**3*b*sigma_t/(2.0*a**3 - 6.0*a**2*b + 6.0*a*b**2 - 2.0*b**3) - a**3*(-3.0*a*sigma_t - 3.0*b*sigma_t)/(3.0*a**3 - 9.0*a**2*b + 9.0*a*b**2 - 3.0*b**3) + 6.0*a*b**3*sigma_t/(2.0*a**3 - 6.0*a**2*b + 6.0*a*b**2 - 2.0*b**3) - a*(1.0*a**3*sigma_t - 3.0*a**2*b*sigma_t)/(1.0*a**3 - 3.0*a**2*b + 3.0*a*b**2 - 1.0*b**3) + 2.0*b**4*sigma_t/(4.0*a**3 - 12.0*a**2*b + 12.0*a*b**2 - 4.0*b**3) + b**3*(-3.0*a*sigma_t - 3.0*b*sigma_t)/(3.0*a**3 - 9.0*a**2*b + 9.0*a*b**2 - 3.0*b**3) + b*(1.0*a**3*sigma_t - 3.0*a**2*b*sigma_t)/(1.0*a**3 - 3.0*a**2*b + 3.0*a*b**2 - 1.0*b**3), True)))"
      ]
     },
     "execution_count": 9,
     "metadata": {},
     "output_type": "execute_result"
    }
   ],
   "source": [
    "i3.doit()"
   ]
  },
  {
   "attachments": {},
   "cell_type": "markdown",
   "metadata": {},
   "source": [
    "Offset such that a=0 (requires adjusting \"o\" aswell!)"
   ]
  },
  {
   "cell_type": "code",
   "execution_count": 10,
   "metadata": {},
   "outputs": [
    {
     "data": {
      "text/latex": [
       "$\\displaystyle e^{- \\int\\limits_{0}^{b} \\frac{\\sigma_{t} t^{2} \\cdot \\left(3.0 - \\frac{2.0 t}{b}\\right) e^{\\frac{- d t - o}{c_{2}}}}{b^{2}}\\, dt}$"
      ],
      "text/plain": [
       "exp(-Integral(sigma_t*t**2*(3.0 - 2.0*t/b)*exp((-d*t - o)/c_2)/b**2, (t, 0, b)))"
      ]
     },
     "execution_count": 10,
     "metadata": {},
     "output_type": "execute_result"
    }
   ],
   "source": [
    "i4 = exp(-Integral(smoothstep(0,b,t)*s*exp(-(o+t*d)/c2), (t,0,b)))\n",
    "i4"
   ]
  },
  {
   "cell_type": "code",
   "execution_count": 11,
   "metadata": {},
   "outputs": [
    {
     "data": {
      "text/latex": [
       "$\\displaystyle e^{\\frac{1.0 \\left(- 6.0 b c_{2}^{3} d \\sigma_{t} + 12.0 c_{2}^{4} \\sigma_{t}\\right) e^{- \\frac{o}{c_{2}}}}{b^{3} d^{4}} - \\frac{1.0 \\left(- 1.0 b^{3} c_{2} d^{3} \\sigma_{t} + 6.0 b c_{2}^{3} d \\sigma_{t} + 12.0 c_{2}^{4} \\sigma_{t}\\right) e^{\\frac{- b d - o}{c_{2}}}}{b^{3} d^{4}}}$"
      ],
      "text/plain": [
       "exp(1.0*(-6.0*b*c_2**3*d*sigma_t + 12.0*c_2**4*sigma_t)*exp(-o/c_2)/(b**3*d**4) - 1.0*(-1.0*b**3*c_2*d**3*sigma_t + 6.0*b*c_2**3*d*sigma_t + 12.0*c_2**4*sigma_t)*exp((-b*d - o)/c_2)/(b**3*d**4))"
      ]
     },
     "execution_count": 11,
     "metadata": {},
     "output_type": "execute_result"
    }
   ],
   "source": [
    "i4.doit()"
   ]
  }
 ],
 "metadata": {
  "kernelspec": {
   "display_name": "Python 3",
   "language": "python",
   "name": "python3"
  },
  "language_info": {
   "codemirror_mode": {
    "name": "ipython",
    "version": 3
   },
   "file_extension": ".py",
   "mimetype": "text/x-python",
   "name": "python",
   "nbconvert_exporter": "python",
   "pygments_lexer": "ipython3",
   "version": "3.10.1"
  },
  "orig_nbformat": 4,
  "vscode": {
   "interpreter": {
    "hash": "683e9bbf599fde3b00e37a0db68ad40a268db525b46af3924c3427b16ddb8792"
   }
  }
 },
 "nbformat": 4,
 "nbformat_minor": 2
}
