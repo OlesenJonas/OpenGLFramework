{
 "cells": [
  {
   "cell_type": "code",
   "execution_count": 43,
   "metadata": {},
   "outputs": [],
   "source": [
    "from sympy import *\n",
    "from IPython.display import display, Math"
   ]
  },
  {
   "cell_type": "code",
   "execution_count": 44,
   "metadata": {},
   "outputs": [],
   "source": [
    "c = symbols('c', nonzero=True, real=True, infinite=False)\n",
    "c1 = symbols('c_1', nonzero=True, real=True, infinite=False)\n",
    "c2 = symbols('c_2', nonzero=True, real=True, infinite=False)\n",
    "v = symbols('v', nonzero=True, real=True, infinite=False) #d was replaced with v for clarity. (v = normalize(pixel position - camera position))\n",
    "sigma_t = symbols('sigma_t', nonzero=True, real=True, infinite=False)\n",
    "o = symbols('o', real=True, infinite=False)\n",
    "u = symbols('u', real=True)\n",
    "t = symbols('t', real=True)\n",
    "t2 = symbols('t_2', real=True)\n",
    "D = symbols('D', real=True, infinite=False, positive=True)\n",
    "a = symbols('a', real=True, infinite=False, positive=True)\n",
    "b = symbols('b', real=True, infinite=False, positive=True)"
   ]
  },
  {
   "cell_type": "code",
   "execution_count": 45,
   "metadata": {},
   "outputs": [],
   "source": [
    "def heightFactor(y):\n",
    "    return exp(-y/c)"
   ]
  },
  {
   "attachments": {},
   "cell_type": "markdown",
   "metadata": {},
   "source": [
    "The outer exponential of\\\n",
    "$ e^{- \\int_{0}^{D}{\\sigma_t(t) \\mathrm{d}t}} $\\\n",
    "is not relevant to solving the integral and will be omitted in the following"
   ]
  },
  {
   "attachments": {},
   "cell_type": "markdown",
   "metadata": {},
   "source": [
    "Only height based"
   ]
  },
  {
   "cell_type": "code",
   "execution_count": 46,
   "metadata": {},
   "outputs": [
    {
     "data": {
      "text/latex": [
       "$\\displaystyle \\int\\limits_{0}^{D} \\sigma_{t} e^{\\frac{- o - t v}{c}}\\, dt$"
      ],
      "text/plain": [
       "Integral(sigma_t*exp((-o - t*v)/c), (t, 0, D))"
      ]
     },
     "execution_count": 46,
     "metadata": {},
     "output_type": "execute_result"
    }
   ],
   "source": [
    "i = Integral(sigma_t*heightFactor(o+t*v), (t,0,D))\n",
    "i"
   ]
  },
  {
   "cell_type": "code",
   "execution_count": 47,
   "metadata": {},
   "outputs": [
    {
     "data": {
      "text/latex": [
       "$\\displaystyle - \\frac{c \\sigma_{t} e^{\\frac{- D v - o}{c}}}{v} + \\frac{c \\sigma_{t} e^{- \\frac{o}{c}}}{v}$"
      ],
      "text/plain": [
       "-c*sigma_t*exp((-D*v - o)/c)/v + c*sigma_t*exp(-o/c)/v"
      ]
     },
     "execution_count": 47,
     "metadata": {},
     "output_type": "execute_result"
    }
   ],
   "source": [
    "i.doit()"
   ]
  },
  {
   "attachments": {},
   "cell_type": "markdown",
   "metadata": {},
   "source": [
    "or in the case that v=0:"
   ]
  },
  {
   "cell_type": "code",
   "execution_count": 48,
   "metadata": {},
   "outputs": [
    {
     "data": {
      "text/latex": [
       "$\\displaystyle D \\sigma_{t} e^{- \\frac{o}{c}}$"
      ],
      "text/plain": [
       "D*sigma_t*exp(-o/c)"
      ]
     },
     "execution_count": 48,
     "metadata": {},
     "output_type": "execute_result"
    }
   ],
   "source": [
    "D*sigma_t*exp(-o/c)"
   ]
  },
  {
   "attachments": {},
   "cell_type": "markdown",
   "metadata": {},
   "source": [
    "Adding a camera fade by scaling the \"intensity\" of the fog with a factor of $0$ to $1$ between distances $a$ and $b$ to the camera using a weighting factor $w(\\mathrm{depth})$\\\n",
    "(which is of course not physical at all)"
   ]
  },
  {
   "cell_type": "code",
   "execution_count": 49,
   "metadata": {},
   "outputs": [],
   "source": [
    "w = Function('w')"
   ]
  },
  {
   "attachments": {},
   "cell_type": "markdown",
   "metadata": {},
   "source": [
    "When integrating over $o+tv$, $t$ is already the distance from the camera since $v$ is normalized"
   ]
  },
  {
   "cell_type": "code",
   "execution_count": 50,
   "metadata": {},
   "outputs": [
    {
     "data": {
      "text/latex": [
       "$\\displaystyle \\int\\limits_{0}^{D} \\sigma_{t} w{\\left(t \\right)} e^{\\frac{- o - t v}{c}}\\, dt$"
      ],
      "text/plain": [
       "Integral(sigma_t*w(t)*exp((-o - t*v)/c), (t, 0, D))"
      ]
     },
     "execution_count": 50,
     "metadata": {},
     "output_type": "execute_result"
    }
   ],
   "source": [
    "generalIntegral = Integral(w(t)*sigma_t*heightFactor(o+t*v), (t,0,D))\n",
    "generalIntegral"
   ]
  },
  {
   "attachments": {},
   "cell_type": "markdown",
   "metadata": {},
   "source": [
    "which is the same as:"
   ]
  },
  {
   "cell_type": "code",
   "execution_count": 51,
   "metadata": {},
   "outputs": [
    {
     "data": {
      "text/latex": [
       "$\\displaystyle \\int\\limits_{0}^{a} \\sigma_{t} w{\\left(t \\right)} e^{\\frac{- o - t v}{c}}\\, dt + \\int\\limits_{a}^{b} \\sigma_{t} w{\\left(t \\right)} e^{\\frac{- o - t v}{c}}\\, dt + \\int\\limits_{b}^{D} \\sigma_{t} w{\\left(t \\right)} e^{\\frac{- o - t v}{c}}\\, dt$"
      ],
      "text/plain": [
       "Integral(sigma_t*w(t)*exp((-o - t*v)/c), (t, 0, a)) + Integral(sigma_t*w(t)*exp((-o - t*v)/c), (t, a, b)) + Integral(sigma_t*w(t)*exp((-o - t*v)/c), (t, b, D))"
      ]
     },
     "execution_count": 51,
     "metadata": {},
     "output_type": "execute_result"
    }
   ],
   "source": [
    "generalIntegral = Integral(w(t)*sigma_t*heightFactor(o+t*v), (t,0,a)) + Integral(w(t)*sigma_t*heightFactor(o+t*v), (t,a,b)) + Integral(w(t)*sigma_t*heightFactor(o+t*v), (t,b,D))\n",
    "generalIntegral"
   ]
  },
  {
   "attachments": {},
   "cell_type": "markdown",
   "metadata": {},
   "source": [
    "Where by definition of the fade, $w(t)$ is $0$ in the bounds of the first integral and $1$ in the bounds of the last integral.\n",
    "This simplifies to "
   ]
  },
  {
   "cell_type": "code",
   "execution_count": 52,
   "metadata": {},
   "outputs": [
    {
     "data": {
      "text/latex": [
       "$\\displaystyle \\int\\limits_{b}^{D} \\sigma_{t} e^{\\frac{- o - t v}{c}}\\, dt + \\int\\limits_{a}^{b} \\sigma_{t} w{\\left(t \\right)} e^{\\frac{- o - t v}{c}}\\, dt$"
      ],
      "text/plain": [
       "Integral(sigma_t*exp((-o - t*v)/c), (t, b, D)) + Integral(sigma_t*w(t)*exp((-o - t*v)/c), (t, a, b))"
      ]
     },
     "execution_count": 52,
     "metadata": {},
     "output_type": "execute_result"
    }
   ],
   "source": [
    "generalIntegral = Integral(w(t)*sigma_t*heightFactor(o+t*v), (t,a,b)) + Integral(1*sigma_t*heightFactor(o+t*v), (t,b,D))\n",
    "generalIntegral"
   ]
  },
  {
   "attachments": {},
   "cell_type": "markdown",
   "metadata": {},
   "source": [
    "Solving the last part:"
   ]
  },
  {
   "cell_type": "code",
   "execution_count": 53,
   "metadata": {},
   "outputs": [
    {
     "data": {
      "text/latex": [
       "$\\displaystyle \\int\\limits_{b}^{D} \\sigma_{t} e^{\\frac{- o - t v}{c}}\\, dt$"
      ],
      "text/plain": [
       "Integral(sigma_t*exp((-o - t*v)/c), (t, b, D))"
      ]
     },
     "execution_count": 53,
     "metadata": {},
     "output_type": "execute_result"
    }
   ],
   "source": [
    "endIntegral = Integral(sigma_t*heightFactor(o+t*v), (t,b,D))\n",
    "endIntegral"
   ]
  },
  {
   "cell_type": "code",
   "execution_count": 54,
   "metadata": {},
   "outputs": [
    {
     "data": {
      "text/latex": [
       "$\\displaystyle - \\frac{c \\sigma_{t} e^{\\frac{- D v - o}{c}}}{v} + \\frac{c \\sigma_{t} e^{\\frac{- b v - o}{c}}}{v}$"
      ],
      "text/plain": [
       "-c*sigma_t*exp((-D*v - o)/c)/v + c*sigma_t*exp((-b*v - o)/c)/v"
      ]
     },
     "execution_count": 54,
     "metadata": {},
     "output_type": "execute_result"
    }
   ],
   "source": [
    "endIntegral.doit()"
   ]
  },
  {
   "attachments": {},
   "cell_type": "markdown",
   "metadata": {},
   "source": [
    "Or in case $v=0$"
   ]
  },
  {
   "cell_type": "code",
   "execution_count": 55,
   "metadata": {},
   "outputs": [
    {
     "data": {
      "text/latex": [
       "$\\displaystyle \\sigma_{t} \\left(D - b\\right) e^{- \\frac{o}{c}}$"
      ],
      "text/plain": [
       "sigma_t*(D - b)*exp(-o/c)"
      ]
     },
     "execution_count": 55,
     "metadata": {},
     "output_type": "execute_result"
    }
   ],
   "source": [
    "simplify(endIntegral.subs(v,0).doit())"
   ]
  },
  {
   "cell_type": "markdown",
   "metadata": {},
   "source": [
    "Solving the middle integral depends on the choice of fade function"
   ]
  },
  {
   "cell_type": "markdown",
   "metadata": {},
   "source": [
    "Simple linear ramp:"
   ]
  },
  {
   "cell_type": "code",
   "execution_count": 56,
   "metadata": {},
   "outputs": [],
   "source": [
    "def linearRamp(x, start, end):\n",
    "    return ((x - start) / (end - start))"
   ]
  },
  {
   "cell_type": "code",
   "execution_count": 57,
   "metadata": {},
   "outputs": [
    {
     "data": {
      "text/latex": [
       "$\\displaystyle \\int\\limits_{a}^{b} \\frac{\\sigma_{t} \\left(- a + t\\right) e^{\\frac{- o - t v}{c}}}{- a + b}\\, dt$"
      ],
      "text/plain": [
       "Integral(sigma_t*(-a + t)*exp((-o - t*v)/c)/(-a + b), (t, a, b))"
      ]
     },
     "execution_count": 57,
     "metadata": {},
     "output_type": "execute_result"
    }
   ],
   "source": [
    "middleIntegralLinear = Integral(linearRamp(t,a,b)*sigma_t*heightFactor(o+t*v), (t,a,b))\n",
    "middleIntegralLinear"
   ]
  },
  {
   "cell_type": "code",
   "execution_count": 58,
   "metadata": {},
   "outputs": [
    {
     "data": {
      "text/latex": [
       "$\\displaystyle \\begin{cases} - \\frac{c^{2} \\sigma_{t} e^{\\frac{- a v - o}{c}}}{a v^{2} - b v^{2}} + \\frac{\\left(- a c \\sigma_{t} v + b c \\sigma_{t} v + c^{2} \\sigma_{t}\\right) e^{\\frac{- b v - o}{c}}}{a v^{2} - b v^{2}} & \\text{for}\\: a v^{2} - b v^{2} \\neq 0 \\\\\\frac{a^{2} \\sigma_{t}}{2 a - 2 b} - \\frac{a^{2} \\sigma_{t}}{a - b} + \\frac{a b \\sigma_{t}}{a - b} - \\frac{b^{2} \\sigma_{t}}{2 a - 2 b} & \\text{otherwise} \\end{cases}$"
      ],
      "text/plain": [
       "Piecewise((-c**2*sigma_t*exp((-a*v - o)/c)/(a*v**2 - b*v**2) + (-a*c*sigma_t*v + b*c*sigma_t*v + c**2*sigma_t)*exp((-b*v - o)/c)/(a*v**2 - b*v**2), Ne(a*v**2 - b*v**2, 0)), (a**2*sigma_t/(2*a - 2*b) - a**2*sigma_t/(a - b) + a*b*sigma_t/(a - b) - b**2*sigma_t/(2*a - 2*b), True))"
      ]
     },
     "execution_count": 58,
     "metadata": {},
     "output_type": "execute_result"
    }
   ],
   "source": [
    "middleIntegralLinear.doit()"
   ]
  },
  {
   "cell_type": "code",
   "execution_count": 70,
   "metadata": {},
   "outputs": [
    {
     "data": {
      "text/latex": [
       "$\\displaystyle \\frac{c \\sigma_{t} \\left(- c e^{- \\frac{a v + o}{c}} + \\left(- a v + b v + c\\right) e^{- \\frac{b v + o}{c}}\\right)}{v^{2} \\left(a - b\\right)}$"
      ],
      "text/plain": [
       "c*sigma_t*(-c*exp(-(a*v + o)/c) + (-a*v + b*v + c)*exp(-(b*v + o)/c))/(v**2*(a - b))"
      ]
     },
     "execution_count": 70,
     "metadata": {},
     "output_type": "execute_result"
    }
   ],
   "source": [
    "simplify(middleIntegralLinear.doit().args[0][0])\n",
    "# simplify(middleIntegralLinear.doit())"
   ]
  },
  {
   "attachments": {},
   "cell_type": "markdown",
   "metadata": {},
   "source": [
    "We can safely assume that $a\\neq b$ as that would not be a valid fade\\\n",
    "$v=0$ on the other hand can happen, but solving with that in mind is simple since the area under the linear ramp from a to b is simply $(b-a)/2$ "
   ]
  },
  {
   "cell_type": "code",
   "execution_count": 60,
   "metadata": {},
   "outputs": [
    {
     "data": {
      "text/latex": [
       "$\\displaystyle \\frac{\\sigma_{t} \\left(- a + b\\right) e^{- \\frac{o}{c}}}{2}$"
      ],
      "text/plain": [
       "sigma_t*(-a + b)*exp(-o/c)/2"
      ]
     },
     "execution_count": 60,
     "metadata": {},
     "output_type": "execute_result"
    }
   ],
   "source": [
    "simplify(middleIntegralLinear.subs(v,0).doit())"
   ]
  },
  {
   "cell_type": "markdown",
   "metadata": {},
   "source": [
    "Another exception occurs when the pixel depth is lower than b, in that case the middle integral is bounded by the pixels depth instead"
   ]
  },
  {
   "cell_type": "code",
   "execution_count": 61,
   "metadata": {},
   "outputs": [
    {
     "data": {
      "text/latex": [
       "$\\displaystyle \\int\\limits_{a}^{D} \\frac{\\sigma_{t} \\left(- a + t\\right) e^{\\frac{- o - t v}{c}}}{- a + b}\\, dt$"
      ],
      "text/plain": [
       "Integral(sigma_t*(-a + t)*exp((-o - t*v)/c)/(-a + b), (t, a, D))"
      ]
     },
     "execution_count": 61,
     "metadata": {},
     "output_type": "execute_result"
    }
   ],
   "source": [
    "middleIntegralLinear2 = Integral(linearRamp(t,a,b)*sigma_t*heightFactor(o+t*v), (t,a,D))\n",
    "middleIntegralLinear2"
   ]
  },
  {
   "cell_type": "code",
   "execution_count": 75,
   "metadata": {},
   "outputs": [
    {
     "data": {
      "text/latex": [
       "$\\displaystyle \\frac{c \\sigma_{t} \\left(- c e^{- \\frac{a v + o}{c}} + \\left(D v - a v + c\\right) e^{- \\frac{D v + o}{c}}\\right)}{v^{2} \\left(a - b\\right)}$"
      ],
      "text/plain": [
       "c*sigma_t*(-c*exp(-(a*v + o)/c) + (D*v - a*v + c)*exp(-(D*v + o)/c))/(v**2*(a - b))"
      ]
     },
     "execution_count": 75,
     "metadata": {},
     "output_type": "execute_result"
    }
   ],
   "source": [
    "simplify(middleIntegralLinear2.doit().args[0][0])\n",
    "# middleIntegralLinear2.doit()"
   ]
  },
  {
   "cell_type": "code",
   "execution_count": 62,
   "metadata": {},
   "outputs": [
    {
     "data": {
      "text/latex": [
       "$\\displaystyle \\frac{\\sigma_{t} \\left(- D^{2} + 2 D a - a^{2}\\right) e^{- \\frac{o}{c}}}{2 \\left(a - b\\right)}$"
      ],
      "text/plain": [
       "sigma_t*(-D**2 + 2*D*a - a**2)*exp(-o/c)/(2*(a - b))"
      ]
     },
     "execution_count": 62,
     "metadata": {},
     "output_type": "execute_result"
    }
   ],
   "source": [
    "simplify(middleIntegralLinear2.subs(v,0).doit())"
   ]
  }
 ],
 "metadata": {
  "kernelspec": {
   "display_name": "Python 3",
   "language": "python",
   "name": "python3"
  },
  "language_info": {
   "codemirror_mode": {
    "name": "ipython",
    "version": 3
   },
   "file_extension": ".py",
   "mimetype": "text/x-python",
   "name": "python",
   "nbconvert_exporter": "python",
   "pygments_lexer": "ipython3",
   "version": "3.9.5"
  },
  "orig_nbformat": 4,
  "vscode": {
   "interpreter": {
    "hash": "085c51388782ab7dcc7b32a500f9634129d1cddb82cd7a37058a5984251a0bc1"
   }
  }
 },
 "nbformat": 4,
 "nbformat_minor": 2
}
