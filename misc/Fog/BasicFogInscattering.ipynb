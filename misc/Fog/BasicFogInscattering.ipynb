{
 "cells": [
  {
   "cell_type": "code",
   "execution_count": 379,
   "metadata": {},
   "outputs": [],
   "source": [
    "from sympy import *\n",
    "from IPython.display import display, Math"
   ]
  },
  {
   "cell_type": "code",
   "execution_count": 380,
   "metadata": {},
   "outputs": [],
   "source": [
    "#init_printing()"
   ]
  },
  {
   "attachments": {},
   "cell_type": "markdown",
   "metadata": {},
   "source": [
    "Resulting light = light coming from pixel * transmittance + integral over all points inbetween of (light coming from that point * transmittance from that point to camera)"
   ]
  },
  {
   "attachments": {},
   "cell_type": "markdown",
   "metadata": {},
   "source": [
    "Cryteks \"exponential height fog\" is used to simply scale the constants $\\sigma_{a,c}$ and $\\sigma_{s,c}$ depending on the height:\n",
    "\n",
    "(Reformulated to divide by c instead. That way increasing c increases fade (more intuitive))"
   ]
  },
  {
   "cell_type": "code",
   "execution_count": 381,
   "metadata": {},
   "outputs": [],
   "source": [
    "c, sigma_ac, sigma_sc = symbols('c sigma_ac sigma_sc')"
   ]
  },
  {
   "cell_type": "code",
   "execution_count": 382,
   "metadata": {},
   "outputs": [],
   "source": [
    "def sigma_a(y):\n",
    "    return sigma_ac*exp(-y/c)\n",
    "def sigma_s(y):\n",
    "    return sigma_sc*exp(-y/c)"
   ]
  },
  {
   "cell_type": "code",
   "execution_count": 383,
   "metadata": {},
   "outputs": [],
   "source": [
    "def sigma_t(y):\n",
    "    return sigma_a(y) + sigma_s(y)"
   ]
  },
  {
   "attachments": {},
   "cell_type": "markdown",
   "metadata": {},
   "source": [
    "Transmittance from pixel to camera:\\\n",
    "camera: $o$, pixel: $o+D*d$\\\n",
    "(in theory $o, d$ are vector quantities, but only the y component matters. so theyre treated as scalars in the following)"
   ]
  },
  {
   "cell_type": "code",
   "execution_count": 384,
   "metadata": {},
   "outputs": [],
   "source": [
    "o, t, d, D = symbols('o t d D',infinite=False)"
   ]
  },
  {
   "cell_type": "code",
   "execution_count": 385,
   "metadata": {},
   "outputs": [],
   "source": [
    "i = Integral(sigma_t(o+t*d), (t, 0, D))"
   ]
  },
  {
   "cell_type": "code",
   "execution_count": 386,
   "metadata": {},
   "outputs": [
    {
     "data": {
      "text/latex": [
       "$\\displaystyle e^{- \\int\\limits_{0}^{D} \\left(\\sigma_{ac} e^{\\frac{- d t - o}{c}} + \\sigma_{sc} e^{\\frac{- d t - o}{c}}\\right)\\, dt}$"
      ],
      "text/plain": [
       "exp(-Integral(sigma_ac*exp((-d*t - o)/c) + sigma_sc*exp((-d*t - o)/c), (t, 0, D)))"
      ]
     },
     "execution_count": 386,
     "metadata": {},
     "output_type": "execute_result"
    }
   ],
   "source": [
    "exp(-i)"
   ]
  },
  {
   "attachments": {},
   "cell_type": "markdown",
   "metadata": {},
   "source": [
    "Solving the integral"
   ]
  },
  {
   "attachments": {},
   "cell_type": "markdown",
   "metadata": {},
   "source": [
    "Simple in the case that d = 0"
   ]
  },
  {
   "cell_type": "code",
   "execution_count": 387,
   "metadata": {},
   "outputs": [
    {
     "data": {
      "text/latex": [
       "$\\displaystyle \\int\\limits_{0}^{D} \\left(\\sigma_{ac} e^{- \\frac{o}{c}} + \\sigma_{sc} e^{- \\frac{o}{c}}\\right)\\, dt$"
      ],
      "text/plain": [
       "Integral(sigma_ac*exp(-o/c) + sigma_sc*exp(-o/c), (t, 0, D))"
      ]
     },
     "execution_count": 387,
     "metadata": {},
     "output_type": "execute_result"
    }
   ],
   "source": [
    "i0 = Integral(sigma_t(o), (t, 0, D))\n",
    "i0"
   ]
  },
  {
   "cell_type": "code",
   "execution_count": 388,
   "metadata": {},
   "outputs": [
    {
     "data": {
      "text/latex": [
       "$\\displaystyle \\left(\\sigma_{ac} e^{- \\frac{o}{c}} + \\sigma_{sc} e^{- \\frac{o}{c}}\\right) \\int\\limits_{0}^{D} 1\\, dt$"
      ],
      "text/plain": [
       "(sigma_ac*exp(-o/c) + sigma_sc*exp(-o/c))*Integral(1, (t, 0, D))"
      ]
     },
     "execution_count": 388,
     "metadata": {},
     "output_type": "execute_result"
    }
   ],
   "source": [
    "i0 = sigma_t(o)*Integral(1, (t, 0, D))\n",
    "i0"
   ]
  },
  {
   "cell_type": "code",
   "execution_count": 389,
   "metadata": {},
   "outputs": [
    {
     "data": {
      "text/latex": [
       "$\\displaystyle D \\left(\\sigma_{ac} + \\sigma_{sc}\\right) e^{- \\frac{o}{c}}$"
      ],
      "text/plain": [
       "D*(sigma_ac + sigma_sc)*exp(-o/c)"
      ]
     },
     "execution_count": 389,
     "metadata": {},
     "output_type": "execute_result"
    }
   ],
   "source": [
    "simplify(i0)"
   ]
  },
  {
   "attachments": {},
   "cell_type": "markdown",
   "metadata": {},
   "source": [
    "otherwise"
   ]
  },
  {
   "cell_type": "code",
   "execution_count": 390,
   "metadata": {},
   "outputs": [
    {
     "data": {
      "text/latex": [
       "$\\displaystyle \\int\\limits_{0}^{D} \\left(\\sigma_{ac} e^{\\frac{- d t - o}{c}} + \\sigma_{sc} e^{\\frac{- d t - o}{c}}\\right)\\, dt$"
      ],
      "text/plain": [
       "Integral(sigma_ac*exp((-d*t - o)/c) + sigma_sc*exp((-d*t - o)/c), (t, 0, D))"
      ]
     },
     "execution_count": 390,
     "metadata": {},
     "output_type": "execute_result"
    }
   ],
   "source": [
    "d = symbols('d',nonzero=True, infinite=False)\n",
    "i = Integral(sigma_t(o+t*d), (t, 0, D))\n",
    "i"
   ]
  },
  {
   "cell_type": "code",
   "execution_count": 391,
   "metadata": {},
   "outputs": [
    {
     "data": {
      "text/latex": [
       "$\\displaystyle \\frac{\\left(- c \\sigma_{ac} - c \\sigma_{sc}\\right) e^{\\frac{- D d - o}{c}}}{d} - \\frac{\\left(- c \\sigma_{ac} - c \\sigma_{sc}\\right) e^{- \\frac{o}{c}}}{d}$"
      ],
      "text/plain": [
       "(-c*sigma_ac - c*sigma_sc)*exp((-D*d - o)/c)/d - (-c*sigma_ac - c*sigma_sc)*exp(-o/c)/d"
      ]
     },
     "execution_count": 391,
     "metadata": {},
     "output_type": "execute_result"
    }
   ],
   "source": [
    "i.doit()"
   ]
  },
  {
   "cell_type": "code",
   "execution_count": 392,
   "metadata": {},
   "outputs": [
    {
     "data": {
      "text/latex": [
       "$\\displaystyle = \\frac{-(c*\\sigma_a + c*\\sigma_s)}{d} (e^{\\frac{-Dd-o}{c}} - e^{\\frac{-o}{c}})$"
      ],
      "text/plain": [
       "<IPython.core.display.Math object>"
      ]
     },
     "metadata": {},
     "output_type": "display_data"
    },
    {
     "data": {
      "text/latex": [
       "$\\displaystyle = \\frac{-(c*\\sigma_a + c*\\sigma_s)}{d} e^{\\frac{-o}{c}} (e^{\\frac{-Dd}{c}} - 1)$"
      ],
      "text/plain": [
       "<IPython.core.display.Math object>"
      ]
     },
     "metadata": {},
     "output_type": "display_data"
    },
    {
     "data": {
      "text/latex": [
       "$\\displaystyle = (c*\\sigma_a + c*\\sigma_s) e^{\\frac{-o}{c}} \\frac{(1 - e^{\\frac{-Dd}{c}})}{d}$"
      ],
      "text/plain": [
       "<IPython.core.display.Math object>"
      ]
     },
     "metadata": {},
     "output_type": "display_data"
    },
    {
     "data": {
      "text/latex": [
       "$\\displaystyle = (\\sigma_a + \\sigma_s) e^{\\frac{-o}{c}}c \\frac{(1 - e^{\\frac{-Dd}{c}})}{d}$"
      ],
      "text/plain": [
       "<IPython.core.display.Math object>"
      ]
     },
     "metadata": {},
     "output_type": "display_data"
    }
   ],
   "source": [
    "display(Math('= \\\\frac{-(c*\\\\sigma_a + c*\\\\sigma_s)}{d} (e^{\\\\frac{-Dd-o}{c}} - e^{\\\\frac{-o}{c}})'))\n",
    "display(Math('= \\\\frac{-(c*\\\\sigma_a + c*\\\\sigma_s)}{d} e^{\\\\frac{-o}{c}} (e^{\\\\frac{-Dd}{c}} - 1)'))\n",
    "display(Math('= (c*\\\\sigma_a + c*\\\\sigma_s) e^{\\\\frac{-o}{c}} \\\\frac{(1 - e^{\\\\frac{-Dd}{c}})}{d}'))\n",
    "display(Math('= (\\\\sigma_a + \\\\sigma_s) e^{\\\\frac{-o}{c}}c \\\\frac{(1 - e^{\\\\frac{-Dd}{c}})}{d}'))"
   ]
  },
  {
   "attachments": {},
   "cell_type": "markdown",
   "metadata": {},
   "source": [
    "In this form it is easy to see that for $d$->$0$ it converges to the result for the $d=0$ case\\\n",
    "(result if d=0):"
   ]
  },
  {
   "cell_type": "code",
   "execution_count": 393,
   "metadata": {},
   "outputs": [
    {
     "data": {
      "text/latex": [
       "$\\displaystyle D \\left(\\sigma_{ac} + \\sigma_{sc}\\right) e^{- \\frac{o}{c}}$"
      ],
      "text/plain": [
       "D*(sigma_ac + sigma_sc)*exp(-o/c)"
      ]
     },
     "execution_count": 393,
     "metadata": {},
     "output_type": "execute_result"
    }
   ],
   "source": [
    "simplify(i0)"
   ]
  },
  {
   "attachments": {},
   "cell_type": "markdown",
   "metadata": {},
   "source": [
    "Evaluating the limit of the second part (can also be seen when graphed)"
   ]
  },
  {
   "cell_type": "code",
   "execution_count": 394,
   "metadata": {},
   "outputs": [
    {
     "data": {
      "text/latex": [
       "$\\displaystyle \\lim_{d \\to 0^+}\\left(\\frac{c \\left(1 - e^{- \\frac{D d}{c}}\\right)}{d}\\right)$"
      ],
      "text/plain": [
       "Limit(c*(1 - exp(-D*d/c))/d, d, 0)"
      ]
     },
     "execution_count": 394,
     "metadata": {},
     "output_type": "execute_result"
    }
   ],
   "source": [
    "l = Limit(c*(1-exp(-D*d/c))/d, d, 0)\n",
    "l"
   ]
  },
  {
   "cell_type": "code",
   "execution_count": 395,
   "metadata": {},
   "outputs": [
    {
     "data": {
      "text/latex": [
       "$\\displaystyle D$"
      ],
      "text/plain": [
       "D"
      ]
     },
     "execution_count": 395,
     "metadata": {},
     "output_type": "execute_result"
    }
   ],
   "source": [
    "l.doit()"
   ]
  },
  {
   "attachments": {},
   "cell_type": "markdown",
   "metadata": {},
   "source": [
    "The transformed version contains the same factors as the d=0 case, so in code those parts could be evaluated without branching.\\\n",
    "Sadly the transformed version is numerically unstable/inaccurate though and cant be used."
   ]
  },
  {
   "attachments": {},
   "cell_type": "markdown",
   "metadata": {},
   "source": [
    "Next the 2nd part of the sum has to be calculated: Integrating the light reaching the camera from every point between the camera and the pixel"
   ]
  },
  {
   "attachments": {},
   "cell_type": "markdown",
   "metadata": {},
   "source": [
    "Again, first calculating the result for the case that $d=0$:"
   ]
  },
  {
   "cell_type": "code",
   "execution_count": 396,
   "metadata": {},
   "outputs": [],
   "source": [
    "d = 0"
   ]
  },
  {
   "cell_type": "code",
   "execution_count": 397,
   "metadata": {},
   "outputs": [],
   "source": [
    "def transmittanceIntegral(o,d,D):\n",
    "    # return (-c*sigma_ac - c*sigma_sc)*exp((-D*d-o)/c)/d - (-c*sigma_ac - c*sigma_sc)*exp(-o/c)/d\n",
    "    return D*(sigma_ac+sigma_sc)*exp(-o/c)"
   ]
  },
  {
   "cell_type": "code",
   "execution_count": 398,
   "metadata": {},
   "outputs": [],
   "source": [
    "l_i, t_2 = symbols('l_i t_2')"
   ]
  },
  {
   "cell_type": "code",
   "execution_count": 399,
   "metadata": {},
   "outputs": [],
   "source": [
    "#Helper function to calculate transmittance from the origin along a direction up until a given depth\n",
    "def transmittance(o, d, D):\n",
    "    return exp(-transmittanceIntegral(o,d,D))"
   ]
  },
  {
   "cell_type": "code",
   "execution_count": 400,
   "metadata": {},
   "outputs": [],
   "source": [
    "def L_s(y): #in scatterd light at height\n",
    "    return sigma_s(y)*l_i #just assume constant inscattering with a constanst phase function for this basic fog type"
   ]
  },
  {
   "cell_type": "code",
   "execution_count": 401,
   "metadata": {},
   "outputs": [
    {
     "data": {
      "text/latex": [
       "$\\displaystyle \\int\\limits_{0}^{D} l_{i} \\sigma_{sc} e^{- \\frac{o}{c}} e^{- t \\left(\\sigma_{ac} + \\sigma_{sc}\\right) e^{- \\frac{o}{c}}}\\, dt$"
      ],
      "text/plain": [
       "Integral(l_i*sigma_sc*exp(-o/c)*exp(-t*(sigma_ac + sigma_sc)*exp(-o/c)), (t, 0, D))"
      ]
     },
     "execution_count": 401,
     "metadata": {},
     "output_type": "execute_result"
    }
   ],
   "source": [
    "i0 = Integral(transmittance(o, d, t) * L_s(o+t*d), (t, 0, D))\n",
    "i0"
   ]
  },
  {
   "cell_type": "code",
   "execution_count": 402,
   "metadata": {},
   "outputs": [
    {
     "data": {
      "text/latex": [
       "$\\displaystyle \\begin{cases} \\frac{l_{i} \\sigma_{sc}}{\\sigma_{ac} + \\sigma_{sc}} - \\frac{l_{i} \\sigma_{sc} e^{- D \\left(\\sigma_{ac} + \\sigma_{sc}\\right) e^{- \\frac{o}{c}}}}{\\sigma_{ac} + \\sigma_{sc}} & \\text{for}\\: \\sigma_{ac} + \\sigma_{sc} \\neq 0 \\\\D l_{i} \\sigma_{sc} e^{- \\frac{o}{c}} & \\text{otherwise} \\end{cases}$"
      ],
      "text/plain": [
       "Piecewise((l_i*sigma_sc/(sigma_ac + sigma_sc) - l_i*sigma_sc*exp(-D*(sigma_ac + sigma_sc)*exp(-o/c))/(sigma_ac + sigma_sc), Ne(sigma_ac + sigma_sc, 0)), (D*l_i*sigma_sc*exp(-o/c), True))"
      ]
     },
     "execution_count": 402,
     "metadata": {},
     "output_type": "execute_result"
    }
   ],
   "source": [
    "i0 = i0.doit()\n",
    "i0"
   ]
  },
  {
   "cell_type": "markdown",
   "metadata": {},
   "source": [
    "The general case:"
   ]
  },
  {
   "cell_type": "code",
   "execution_count": 403,
   "metadata": {},
   "outputs": [],
   "source": [
    "d = symbols('d',nonzero=True)"
   ]
  },
  {
   "cell_type": "code",
   "execution_count": 404,
   "metadata": {},
   "outputs": [],
   "source": [
    "def transmittanceIntegral(o,d,D):\n",
    "    return (-c*sigma_ac - c*sigma_sc)*exp((-D*d-o)/c)/d - (-c*sigma_ac - c*sigma_sc)*exp(-o/c)/d\n",
    "    # return D*(sigma_ac+sigma_sc)*exp(-o/c)"
   ]
  },
  {
   "cell_type": "code",
   "execution_count": 405,
   "metadata": {},
   "outputs": [
    {
     "data": {
      "text/latex": [
       "$\\displaystyle \\int\\limits_{0}^{D} l_{i} \\sigma_{sc} e^{\\frac{- d t - o}{c}} e^{- \\frac{\\left(- c \\sigma_{ac} - c \\sigma_{sc}\\right) e^{\\frac{- d t - o}{c}}}{d} + \\frac{\\left(- c \\sigma_{ac} - c \\sigma_{sc}\\right) e^{- \\frac{o}{c}}}{d}}\\, dt$"
      ],
      "text/plain": [
       "Integral(l_i*sigma_sc*exp((-d*t - o)/c)*exp(-(-c*sigma_ac - c*sigma_sc)*exp((-d*t - o)/c)/d + (-c*sigma_ac - c*sigma_sc)*exp(-o/c)/d), (t, 0, D))"
      ]
     },
     "execution_count": 405,
     "metadata": {},
     "output_type": "execute_result"
    }
   ],
   "source": [
    "i = Integral(transmittance(o, d, t) * L_s(o+t*d), (t, 0, D))\n",
    "i"
   ]
  },
  {
   "cell_type": "code",
   "execution_count": 406,
   "metadata": {},
   "outputs": [],
   "source": [
    "i = i.doit()"
   ]
  },
  {
   "cell_type": "code",
   "execution_count": 407,
   "metadata": {},
   "outputs": [
    {
     "data": {
      "text/latex": [
       "$\\displaystyle \\begin{cases} - \\frac{l_{i} \\sigma_{sc} e^{- \\frac{\\left(- c \\sigma_{ac} - c \\sigma_{sc}\\right) e^{\\frac{- D d - o}{c}}}{d} + \\frac{\\left(- c \\sigma_{ac} - c \\sigma_{sc}\\right) e^{- \\frac{o}{c}}}{d}}}{\\sigma_{ac} + \\sigma_{sc}} + \\frac{l_{i} \\sigma_{sc}}{\\sigma_{ac} + \\sigma_{sc}} & \\text{for}\\: \\sigma_{ac} + \\sigma_{sc} \\neq 0 \\\\- \\frac{c l_{i} \\sigma_{sc} e^{\\frac{- D d - o}{c}}}{d} + \\frac{c l_{i} \\sigma_{sc} e^{- \\frac{o}{c}}}{d} & \\text{otherwise} \\end{cases}$"
      ],
      "text/plain": [
       "Piecewise((-l_i*sigma_sc*exp(-(-c*sigma_ac - c*sigma_sc)*exp((-D*d - o)/c)/d + (-c*sigma_ac - c*sigma_sc)*exp(-o/c)/d)/(sigma_ac + sigma_sc) + l_i*sigma_sc/(sigma_ac + sigma_sc), Ne(sigma_ac + sigma_sc, 0)), (-c*l_i*sigma_sc*exp((-D*d - o)/c)/d + c*l_i*sigma_sc*exp(-o/c)/d, True))"
      ]
     },
     "execution_count": 407,
     "metadata": {},
     "output_type": "execute_result"
    }
   ],
   "source": [
    "i"
   ]
  },
  {
   "attachments": {},
   "cell_type": "markdown",
   "metadata": {},
   "source": [
    "Comparing both results:"
   ]
  },
  {
   "cell_type": "code",
   "execution_count": 410,
   "metadata": {},
   "outputs": [
    {
     "data": {
      "text/latex": [
       "$\\displaystyle \\frac{l_{i} \\sigma_{sc}}{\\sigma_{ac} + \\sigma_{sc}} - \\frac{l_{i} \\sigma_{sc} e^{- D \\left(\\sigma_{ac} + \\sigma_{sc}\\right) e^{- \\frac{o}{c}}}}{\\sigma_{ac} + \\sigma_{sc}}$"
      ],
      "text/plain": [
       "l_i*sigma_sc/(sigma_ac + sigma_sc) - l_i*sigma_sc*exp(-D*(sigma_ac + sigma_sc)*exp(-o/c))/(sigma_ac + sigma_sc)"
      ]
     },
     "execution_count": 410,
     "metadata": {},
     "output_type": "execute_result"
    }
   ],
   "source": [
    "i0.args[0][0]"
   ]
  },
  {
   "cell_type": "code",
   "execution_count": 411,
   "metadata": {},
   "outputs": [
    {
     "data": {
      "text/latex": [
       "$\\displaystyle - \\frac{l_{i} \\sigma_{sc} e^{- \\frac{\\left(- c \\sigma_{ac} - c \\sigma_{sc}\\right) e^{\\frac{- D d - o}{c}}}{d} + \\frac{\\left(- c \\sigma_{ac} - c \\sigma_{sc}\\right) e^{- \\frac{o}{c}}}{d}}}{\\sigma_{ac} + \\sigma_{sc}} + \\frac{l_{i} \\sigma_{sc}}{\\sigma_{ac} + \\sigma_{sc}}$"
      ],
      "text/plain": [
       "-l_i*sigma_sc*exp(-(-c*sigma_ac - c*sigma_sc)*exp((-D*d - o)/c)/d + (-c*sigma_ac - c*sigma_sc)*exp(-o/c)/d)/(sigma_ac + sigma_sc) + l_i*sigma_sc/(sigma_ac + sigma_sc)"
      ]
     },
     "execution_count": 411,
     "metadata": {},
     "output_type": "execute_result"
    }
   ],
   "source": [
    "i.args[0][0]"
   ]
  },
  {
   "attachments": {},
   "cell_type": "markdown",
   "metadata": {},
   "source": [
    "It becomes obvious that the result in both cases is simply:"
   ]
  },
  {
   "cell_type": "code",
   "execution_count": 414,
   "metadata": {},
   "outputs": [
    {
     "data": {
      "text/latex": [
       "$\\displaystyle - \\frac{T_{r} l_{i} \\sigma_{sc}}{\\sigma_{ac} + \\sigma_{sc}} + \\frac{l_{i} \\sigma_{sc}}{\\sigma_{ac} + \\sigma_{sc}}$"
      ],
      "text/plain": [
       "-T_r*l_i*sigma_sc/(sigma_ac + sigma_sc) + l_i*sigma_sc/(sigma_ac + sigma_sc)"
      ]
     },
     "execution_count": 414,
     "metadata": {},
     "output_type": "execute_result"
    }
   ],
   "source": [
    "T_r = symbols('T_r')\n",
    "l_i*sigma_sc/(sigma_ac+sigma_sc) - l_i*sigma_sc*T_r/(sigma_ac+sigma_sc)"
   ]
  },
  {
   "attachments": {},
   "cell_type": "markdown",
   "metadata": {},
   "source": [
    "Where $T_r$ is the total transmittance from the camera to the pixel, and $\\frac{\\sigma_{sc}}{\\sigma_{ac}+\\sigma_{sc}}$ is the usual volumetric albedo"
   ]
  }
 ],
 "metadata": {
  "kernelspec": {
   "display_name": "Python 3",
   "language": "python",
   "name": "python3"
  },
  "language_info": {
   "codemirror_mode": {
    "name": "ipython",
    "version": 3
   },
   "file_extension": ".py",
   "mimetype": "text/x-python",
   "name": "python",
   "nbconvert_exporter": "python",
   "pygments_lexer": "ipython3",
   "version": "3.9.5"
  },
  "orig_nbformat": 4,
  "vscode": {
   "interpreter": {
    "hash": "085c51388782ab7dcc7b32a500f9634129d1cddb82cd7a37058a5984251a0bc1"
   }
  }
 },
 "nbformat": 4,
 "nbformat_minor": 2
}
