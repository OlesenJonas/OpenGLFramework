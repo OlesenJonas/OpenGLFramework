{
 "cells": [
  {
   "cell_type": "code",
   "execution_count": 126,
   "metadata": {},
   "outputs": [],
   "source": [
    "from sympy import *\n",
    "from IPython.display import display, Math, Latex, Markdown"
   ]
  },
  {
   "cell_type": "code",
   "execution_count": 127,
   "metadata": {},
   "outputs": [],
   "source": [
    "#init_printing()"
   ]
  },
  {
   "attachments": {},
   "cell_type": "markdown",
   "metadata": {},
   "source": [
    "Resulting light = light coming from pixel * transmittance + integral over all points inbetween of (light coming from that point * transmittance from that point to camera)"
   ]
  },
  {
   "attachments": {},
   "cell_type": "markdown",
   "metadata": {},
   "source": [
    "Cryteks \"exponential height fog\" is used to simply scale the constants $\\sigma_{a,c}$ and $\\sigma_{s,c}$ depending on the height:\n",
    "\n",
    "(Reformulated to divide by c instead. That way increasing c increases fade (more intuitive))"
   ]
  },
  {
   "cell_type": "code",
   "execution_count": 128,
   "metadata": {},
   "outputs": [],
   "source": [
    "c = symbols('c',nonzero=True, infinite=False, real=True)"
   ]
  },
  {
   "cell_type": "code",
   "execution_count": 129,
   "metadata": {},
   "outputs": [],
   "source": [
    "sigma_ac, sigma_sc = symbols('sigma_ac sigma_sc', real=True, positive=True)"
   ]
  },
  {
   "cell_type": "code",
   "execution_count": 130,
   "metadata": {},
   "outputs": [],
   "source": [
    "def sigma_a(y):\n",
    "    return sigma_ac*exp(-y/c)\n",
    "def sigma_s(y):\n",
    "    return sigma_sc*exp(-y/c)"
   ]
  },
  {
   "cell_type": "code",
   "execution_count": 131,
   "metadata": {},
   "outputs": [],
   "source": [
    "def sigma_t(y):\n",
    "    return sigma_a(y) + sigma_s(y)"
   ]
  },
  {
   "attachments": {},
   "cell_type": "markdown",
   "metadata": {},
   "source": [
    "Transmittance from pixel to camera:\\\n",
    "camera: $o$, pixel: $o+D*d$\\\n",
    "(in theory $o, d$ are vector quantities, but only the y component matters. so theyre treated as scalars in the following)"
   ]
  },
  {
   "cell_type": "code",
   "execution_count": 132,
   "metadata": {},
   "outputs": [],
   "source": [
    "o, t, d, D = symbols('o t d D',infinite=False)"
   ]
  },
  {
   "cell_type": "code",
   "execution_count": 133,
   "metadata": {},
   "outputs": [],
   "source": [
    "i = Integral(sigma_t(o+t*d), (t, 0, D))"
   ]
  },
  {
   "cell_type": "code",
   "execution_count": 134,
   "metadata": {},
   "outputs": [
    {
     "data": {
      "text/latex": [
       "$\\displaystyle e^{- \\int\\limits_{0}^{D} \\left(\\sigma_{ac} e^{\\frac{- d t - o}{c}} + \\sigma_{sc} e^{\\frac{- d t - o}{c}}\\right)\\, dt}$"
      ],
      "text/plain": [
       "exp(-Integral(sigma_ac*exp((-d*t - o)/c) + sigma_sc*exp((-d*t - o)/c), (t, 0, D)))"
      ]
     },
     "execution_count": 134,
     "metadata": {},
     "output_type": "execute_result"
    }
   ],
   "source": [
    "exp(-i)"
   ]
  },
  {
   "attachments": {},
   "cell_type": "markdown",
   "metadata": {},
   "source": [
    "Solving the integral"
   ]
  },
  {
   "attachments": {},
   "cell_type": "markdown",
   "metadata": {},
   "source": [
    "Simple in the case that d = 0"
   ]
  },
  {
   "cell_type": "code",
   "execution_count": 135,
   "metadata": {},
   "outputs": [
    {
     "data": {
      "text/latex": [
       "$\\displaystyle \\int\\limits_{0}^{D} \\left(\\sigma_{ac} e^{- \\frac{o}{c}} + \\sigma_{sc} e^{- \\frac{o}{c}}\\right)\\, dt$"
      ],
      "text/plain": [
       "Integral(sigma_ac*exp(-o/c) + sigma_sc*exp(-o/c), (t, 0, D))"
      ]
     },
     "execution_count": 135,
     "metadata": {},
     "output_type": "execute_result"
    }
   ],
   "source": [
    "i0 = Integral(sigma_t(o), (t, 0, D))\n",
    "i0"
   ]
  },
  {
   "cell_type": "code",
   "execution_count": 136,
   "metadata": {},
   "outputs": [
    {
     "data": {
      "text/latex": [
       "$\\displaystyle \\left(\\sigma_{ac} e^{- \\frac{o}{c}} + \\sigma_{sc} e^{- \\frac{o}{c}}\\right) \\int\\limits_{0}^{D} 1\\, dt$"
      ],
      "text/plain": [
       "(sigma_ac*exp(-o/c) + sigma_sc*exp(-o/c))*Integral(1, (t, 0, D))"
      ]
     },
     "execution_count": 136,
     "metadata": {},
     "output_type": "execute_result"
    }
   ],
   "source": [
    "i0 = sigma_t(o)*Integral(1, (t, 0, D))\n",
    "i0"
   ]
  },
  {
   "cell_type": "code",
   "execution_count": 137,
   "metadata": {},
   "outputs": [
    {
     "data": {
      "text/latex": [
       "$\\displaystyle D \\left(\\sigma_{ac} + \\sigma_{sc}\\right) e^{- \\frac{o}{c}}$"
      ],
      "text/plain": [
       "D*(sigma_ac + sigma_sc)*exp(-o/c)"
      ]
     },
     "execution_count": 137,
     "metadata": {},
     "output_type": "execute_result"
    }
   ],
   "source": [
    "simplify(i0)"
   ]
  },
  {
   "attachments": {},
   "cell_type": "markdown",
   "metadata": {},
   "source": [
    "otherwise"
   ]
  },
  {
   "cell_type": "code",
   "execution_count": 138,
   "metadata": {},
   "outputs": [
    {
     "data": {
      "text/latex": [
       "$\\displaystyle \\int\\limits_{0}^{D} \\left(\\sigma_{ac} e^{\\frac{- d t - o}{c}} + \\sigma_{sc} e^{\\frac{- d t - o}{c}}\\right)\\, dt$"
      ],
      "text/plain": [
       "Integral(sigma_ac*exp((-d*t - o)/c) + sigma_sc*exp((-d*t - o)/c), (t, 0, D))"
      ]
     },
     "execution_count": 138,
     "metadata": {},
     "output_type": "execute_result"
    }
   ],
   "source": [
    "d = symbols('d',nonzero=True, infinite=False)\n",
    "i = Integral(sigma_t(o+t*d), (t, 0, D))\n",
    "i"
   ]
  },
  {
   "cell_type": "code",
   "execution_count": 139,
   "metadata": {},
   "outputs": [
    {
     "data": {
      "text/latex": [
       "$\\displaystyle \\frac{\\left(- c \\sigma_{ac} - c \\sigma_{sc}\\right) e^{\\frac{- D d - o}{c}}}{d} - \\frac{\\left(- c \\sigma_{ac} - c \\sigma_{sc}\\right) e^{- \\frac{o}{c}}}{d}$"
      ],
      "text/plain": [
       "(-c*sigma_ac - c*sigma_sc)*exp((-D*d - o)/c)/d - (-c*sigma_ac - c*sigma_sc)*exp(-o/c)/d"
      ]
     },
     "execution_count": 139,
     "metadata": {},
     "output_type": "execute_result"
    }
   ],
   "source": [
    "i.doit()"
   ]
  },
  {
   "attachments": {},
   "cell_type": "markdown",
   "metadata": {},
   "source": [
    "(Could be compacted, but that form lead to numerical issues)"
   ]
  },
  {
   "attachments": {},
   "cell_type": "markdown",
   "metadata": {},
   "source": [
    "Next the 2nd part of the sum has to be calculated: Integrating the light reaching the camera from every point between the camera and the pixel"
   ]
  },
  {
   "attachments": {},
   "cell_type": "markdown",
   "metadata": {},
   "source": [
    "Again, first calculating the result for the case that $d=0$:"
   ]
  },
  {
   "cell_type": "code",
   "execution_count": 144,
   "metadata": {},
   "outputs": [],
   "source": [
    "d = 0"
   ]
  },
  {
   "cell_type": "code",
   "execution_count": 145,
   "metadata": {},
   "outputs": [],
   "source": [
    "def transmittanceIntegral(o,d,D):\n",
    "    # return (-c*sigma_ac - c*sigma_sc)*exp((-D*d-o)/c)/d - (-c*sigma_ac - c*sigma_sc)*exp(-o/c)/d\n",
    "    return D*(sigma_ac+sigma_sc)*exp(-o/c)"
   ]
  },
  {
   "cell_type": "code",
   "execution_count": 146,
   "metadata": {},
   "outputs": [],
   "source": [
    "l_i, t_2 = symbols('l_i t_2')"
   ]
  },
  {
   "cell_type": "code",
   "execution_count": 147,
   "metadata": {},
   "outputs": [],
   "source": [
    "#Helper function to calculate transmittance from the origin along a direction up until a given depth\n",
    "def transmittance(o, d, D):\n",
    "    return exp(-transmittanceIntegral(o,d,D))"
   ]
  },
  {
   "attachments": {},
   "cell_type": "markdown",
   "metadata": {},
   "source": [
    "In reality we'd have to solve the following integral to determine $L_s$ since $L_i$ most likely isnt uniform, but for now we assume that its constant. In that case were only left with the integral over the phase function which by definition is 1"
   ]
  },
  {
   "cell_type": "code",
   "execution_count": 149,
   "metadata": {},
   "outputs": [
    {
     "data": {
      "text/latex": [
       "$\\displaystyle \\int_{S^2} \\mathrm{p}(\\omega_i,-\\omega)L_i(o+t*d,\\omega_i)\\mathrm{d}\\omega_i$"
      ],
      "text/plain": [
       "<IPython.core.display.Math object>"
      ]
     },
     "metadata": {},
     "output_type": "display_data"
    }
   ],
   "source": [
    "\n",
    "display(Math('\\int_{S^2} \\mathrm{p}(\\omega_i,-\\omega)L_i(o+t*d,\\omega_i)\\mathrm{d}\\omega_i'))\n"
   ]
  },
  {
   "cell_type": "code",
   "execution_count": 148,
   "metadata": {},
   "outputs": [],
   "source": [
    "def L_s(y): #in scatterd light at height\n",
    "    return sigma_s(y)*l_i"
   ]
  },
  {
   "cell_type": "code",
   "execution_count": 150,
   "metadata": {},
   "outputs": [
    {
     "data": {
      "text/latex": [
       "$\\displaystyle \\int\\limits_{0}^{D} l_{i} \\sigma_{sc} e^{- \\frac{o}{c}} e^{- t \\left(\\sigma_{ac} + \\sigma_{sc}\\right) e^{- \\frac{o}{c}}}\\, dt$"
      ],
      "text/plain": [
       "Integral(l_i*sigma_sc*exp(-o/c)*exp(-t*(sigma_ac + sigma_sc)*exp(-o/c)), (t, 0, D))"
      ]
     },
     "execution_count": 150,
     "metadata": {},
     "output_type": "execute_result"
    }
   ],
   "source": [
    "i0 = Integral(transmittance(o, d, t) * L_s(o+t*d), (t, 0, D))\n",
    "i0"
   ]
  },
  {
   "cell_type": "code",
   "execution_count": 151,
   "metadata": {},
   "outputs": [
    {
     "data": {
      "text/latex": [
       "$\\displaystyle \\frac{l_{i} \\sigma_{sc}}{\\sigma_{ac} + \\sigma_{sc}} - \\frac{l_{i} \\sigma_{sc} e^{- D \\left(\\sigma_{ac} + \\sigma_{sc}\\right) e^{- \\frac{o}{c}}}}{\\sigma_{ac} + \\sigma_{sc}}$"
      ],
      "text/plain": [
       "l_i*sigma_sc/(sigma_ac + sigma_sc) - l_i*sigma_sc*exp(-D*(sigma_ac + sigma_sc)*exp(-o/c))/(sigma_ac + sigma_sc)"
      ]
     },
     "execution_count": 151,
     "metadata": {},
     "output_type": "execute_result"
    }
   ],
   "source": [
    "i0 = i0.doit()\n",
    "i0"
   ]
  },
  {
   "cell_type": "markdown",
   "metadata": {},
   "source": [
    "The general case:"
   ]
  },
  {
   "cell_type": "code",
   "execution_count": 152,
   "metadata": {},
   "outputs": [],
   "source": [
    "d = symbols('d',nonzero=True, real=True)"
   ]
  },
  {
   "cell_type": "code",
   "execution_count": 153,
   "metadata": {},
   "outputs": [],
   "source": [
    "def transmittanceIntegral(o,d,D):\n",
    "    return (-c*sigma_ac - c*sigma_sc)*exp((-D*d-o)/c)/d - (-c*sigma_ac - c*sigma_sc)*exp(-o/c)/d\n",
    "    # return D*(sigma_ac+sigma_sc)*exp(-o/c)"
   ]
  },
  {
   "cell_type": "code",
   "execution_count": 154,
   "metadata": {},
   "outputs": [
    {
     "data": {
      "text/latex": [
       "$\\displaystyle \\int\\limits_{0}^{D} l_{i} \\sigma_{sc} e^{\\frac{- d t - o}{c}} e^{- \\frac{\\left(- c \\sigma_{ac} - c \\sigma_{sc}\\right) e^{\\frac{- d t - o}{c}}}{d} + \\frac{\\left(- c \\sigma_{ac} - c \\sigma_{sc}\\right) e^{- \\frac{o}{c}}}{d}}\\, dt$"
      ],
      "text/plain": [
       "Integral(l_i*sigma_sc*exp((-d*t - o)/c)*exp(-(-c*sigma_ac - c*sigma_sc)*exp((-d*t - o)/c)/d + (-c*sigma_ac - c*sigma_sc)*exp(-o/c)/d), (t, 0, D))"
      ]
     },
     "execution_count": 154,
     "metadata": {},
     "output_type": "execute_result"
    }
   ],
   "source": [
    "i = Integral(transmittance(o, d, t) * L_s(o+t*d), (t, 0, D))\n",
    "i"
   ]
  },
  {
   "cell_type": "code",
   "execution_count": 155,
   "metadata": {},
   "outputs": [
    {
     "data": {
      "text/latex": [
       "$\\displaystyle - \\frac{l_{i} \\sigma_{sc} e^{- \\frac{\\left(- c \\sigma_{ac} - c \\sigma_{sc}\\right) e^{\\frac{- D d - o}{c}}}{d} + \\frac{\\left(- c \\sigma_{ac} - c \\sigma_{sc}\\right) e^{- \\frac{o}{c}}}{d}}}{\\sigma_{ac} + \\sigma_{sc}} + \\frac{l_{i} \\sigma_{sc}}{\\sigma_{ac} + \\sigma_{sc}}$"
      ],
      "text/plain": [
       "-l_i*sigma_sc*exp(-(-c*sigma_ac - c*sigma_sc)*exp((-D*d - o)/c)/d + (-c*sigma_ac - c*sigma_sc)*exp(-o/c)/d)/(sigma_ac + sigma_sc) + l_i*sigma_sc/(sigma_ac + sigma_sc)"
      ]
     },
     "execution_count": 155,
     "metadata": {},
     "output_type": "execute_result"
    }
   ],
   "source": [
    "i = i.doit()\n",
    "i"
   ]
  },
  {
   "attachments": {},
   "cell_type": "markdown",
   "metadata": {},
   "source": [
    "Comparing both results:"
   ]
  },
  {
   "cell_type": "code",
   "execution_count": 156,
   "metadata": {},
   "outputs": [
    {
     "data": {
      "text/latex": [
       "$\\displaystyle \\frac{l_{i} \\sigma_{sc}}{\\sigma_{ac} + \\sigma_{sc}} - \\frac{l_{i} \\sigma_{sc} e^{- D \\left(\\sigma_{ac} + \\sigma_{sc}\\right) e^{- \\frac{o}{c}}}}{\\sigma_{ac} + \\sigma_{sc}}$"
      ],
      "text/plain": [
       "l_i*sigma_sc/(sigma_ac + sigma_sc) - l_i*sigma_sc*exp(-D*(sigma_ac + sigma_sc)*exp(-o/c))/(sigma_ac + sigma_sc)"
      ]
     },
     "execution_count": 156,
     "metadata": {},
     "output_type": "execute_result"
    }
   ],
   "source": [
    "i0"
   ]
  },
  {
   "cell_type": "code",
   "execution_count": 157,
   "metadata": {},
   "outputs": [
    {
     "data": {
      "text/latex": [
       "$\\displaystyle - \\frac{l_{i} \\sigma_{sc} e^{- \\frac{\\left(- c \\sigma_{ac} - c \\sigma_{sc}\\right) e^{\\frac{- D d - o}{c}}}{d} + \\frac{\\left(- c \\sigma_{ac} - c \\sigma_{sc}\\right) e^{- \\frac{o}{c}}}{d}}}{\\sigma_{ac} + \\sigma_{sc}} + \\frac{l_{i} \\sigma_{sc}}{\\sigma_{ac} + \\sigma_{sc}}$"
      ],
      "text/plain": [
       "-l_i*sigma_sc*exp(-(-c*sigma_ac - c*sigma_sc)*exp((-D*d - o)/c)/d + (-c*sigma_ac - c*sigma_sc)*exp(-o/c)/d)/(sigma_ac + sigma_sc) + l_i*sigma_sc/(sigma_ac + sigma_sc)"
      ]
     },
     "execution_count": 157,
     "metadata": {},
     "output_type": "execute_result"
    }
   ],
   "source": [
    "i"
   ]
  },
  {
   "attachments": {},
   "cell_type": "markdown",
   "metadata": {},
   "source": [
    "It becomes obvious that the result in both cases is simply:"
   ]
  },
  {
   "cell_type": "code",
   "execution_count": 158,
   "metadata": {},
   "outputs": [
    {
     "data": {
      "text/latex": [
       "$\\displaystyle - \\frac{T_{r} l_{i} \\sigma_{sc}}{\\sigma_{ac} + \\sigma_{sc}} + \\frac{l_{i} \\sigma_{sc}}{\\sigma_{ac} + \\sigma_{sc}}$"
      ],
      "text/plain": [
       "-T_r*l_i*sigma_sc/(sigma_ac + sigma_sc) + l_i*sigma_sc/(sigma_ac + sigma_sc)"
      ]
     },
     "execution_count": 158,
     "metadata": {},
     "output_type": "execute_result"
    }
   ],
   "source": [
    "T_r = symbols('T_r')\n",
    "l_i*sigma_sc/(sigma_ac+sigma_sc) - l_i*sigma_sc*T_r/(sigma_ac+sigma_sc)"
   ]
  },
  {
   "attachments": {},
   "cell_type": "markdown",
   "metadata": {},
   "source": [
    "Where $T_r$ is the total transmittance from the camera to the pixel, and $\\frac{\\sigma_{sc}}{\\sigma_{ac}+\\sigma_{sc}}$ is the volumetric albedo"
   ]
  },
  {
   "attachments": {},
   "cell_type": "markdown",
   "metadata": {},
   "source": [
    "This formulation also explains the widely used fog approximation:\\\n",
    "$PixelColor * Transmittance + FogColor * (1-Transmittace)$\\\n",
    "Since setting $\\sigma_{ac}$ to 0 (meaning no absorption, and only scattering is happening) results in:\\\n",
    "$(1-T_r)*l_i$"
   ]
  }
 ],
 "metadata": {
  "kernelspec": {
   "display_name": "Python 3",
   "language": "python",
   "name": "python3"
  },
  "language_info": {
   "codemirror_mode": {
    "name": "ipython",
    "version": 3
   },
   "file_extension": ".py",
   "mimetype": "text/x-python",
   "name": "python",
   "nbconvert_exporter": "python",
   "pygments_lexer": "ipython3",
   "version": "3.9.5"
  },
  "orig_nbformat": 4,
  "vscode": {
   "interpreter": {
    "hash": "085c51388782ab7dcc7b32a500f9634129d1cddb82cd7a37058a5984251a0bc1"
   }
  }
 },
 "nbformat": 4,
 "nbformat_minor": 2
}
