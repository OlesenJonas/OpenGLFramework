{
 "cells": [
  {
   "cell_type": "code",
   "execution_count": 84,
   "metadata": {},
   "outputs": [],
   "source": [
    "from sympy import *\n",
    "from IPython.display import display, Math"
   ]
  },
  {
   "cell_type": "code",
   "execution_count": 68,
   "metadata": {},
   "outputs": [],
   "source": [
    "#init_printing()"
   ]
  },
  {
   "attachments": {},
   "cell_type": "markdown",
   "metadata": {},
   "source": [
    "Resulting light = light coming from pixel * transmittance + integral over all points inbetween of (light coming from that point * transmittance from that point to camera)"
   ]
  },
  {
   "attachments": {},
   "cell_type": "markdown",
   "metadata": {},
   "source": [
    "Cryteks \"exponential height fog\" is used to simply scale the constants $\\sigma_{a,c}$ and $\\sigma_{s,c}$ depending on the height:\n",
    "\n",
    "(Reformulated to divide by c instead. That way increasing c increases fade (more intuitive))"
   ]
  },
  {
   "cell_type": "code",
   "execution_count": 69,
   "metadata": {},
   "outputs": [],
   "source": [
    "c, sigma_ac, sigma_sc = symbols('c sigma_ac sigma_sc')"
   ]
  },
  {
   "cell_type": "code",
   "execution_count": 70,
   "metadata": {},
   "outputs": [],
   "source": [
    "def sigma_a(y):\n",
    "    return sigma_ac*exp(-y/c)\n",
    "def sigma_s(y):\n",
    "    return sigma_sc*exp(-y/c)"
   ]
  },
  {
   "cell_type": "code",
   "execution_count": 71,
   "metadata": {},
   "outputs": [],
   "source": [
    "def sigma_t(y):\n",
    "    return sigma_a(y) + sigma_s(y)"
   ]
  },
  {
   "attachments": {},
   "cell_type": "markdown",
   "metadata": {},
   "source": [
    "Transmittance from pixel to camera:\\\n",
    "camera: $o$, pixel: $o+D*d$\\\n",
    "(in theory $o, d$ are vector quantities, but only the y component matters. so theyre treated as scalars in the following)"
   ]
  },
  {
   "cell_type": "code",
   "execution_count": 72,
   "metadata": {},
   "outputs": [],
   "source": [
    "o, t, d, D = symbols('o t d D',infinite=False)"
   ]
  },
  {
   "cell_type": "code",
   "execution_count": 73,
   "metadata": {},
   "outputs": [],
   "source": [
    "i = Integral(sigma_t(o+t*d), (t, 0, D))"
   ]
  },
  {
   "cell_type": "code",
   "execution_count": 74,
   "metadata": {},
   "outputs": [
    {
     "data": {
      "text/latex": [
       "$\\displaystyle e^{- \\int\\limits_{0}^{D} \\left(\\sigma_{ac} e^{\\frac{- d t - o}{c}} + \\sigma_{sc} e^{\\frac{- d t - o}{c}}\\right)\\, dt}$"
      ],
      "text/plain": [
       "exp(-Integral(sigma_ac*exp((-d*t - o)/c) + sigma_sc*exp((-d*t - o)/c), (t, 0, D)))"
      ]
     },
     "execution_count": 74,
     "metadata": {},
     "output_type": "execute_result"
    }
   ],
   "source": [
    "exp(-i)"
   ]
  },
  {
   "attachments": {},
   "cell_type": "markdown",
   "metadata": {},
   "source": [
    "Solving the integral"
   ]
  },
  {
   "attachments": {},
   "cell_type": "markdown",
   "metadata": {},
   "source": [
    "Simple in the case that d = 0"
   ]
  },
  {
   "cell_type": "code",
   "execution_count": 80,
   "metadata": {},
   "outputs": [
    {
     "data": {
      "text/latex": [
       "$\\displaystyle \\int\\limits_{0}^{D} \\left(\\sigma_{ac} e^{- \\frac{o}{c}} + \\sigma_{sc} e^{- \\frac{o}{c}}\\right)\\, dt$"
      ],
      "text/plain": [
       "Integral(sigma_ac*exp(-o/c) + sigma_sc*exp(-o/c), (t, 0, D))"
      ]
     },
     "execution_count": 80,
     "metadata": {},
     "output_type": "execute_result"
    }
   ],
   "source": [
    "i0 = Integral(sigma_t(o), (t, 0, D))\n",
    "i0"
   ]
  },
  {
   "cell_type": "code",
   "execution_count": 81,
   "metadata": {},
   "outputs": [
    {
     "data": {
      "text/latex": [
       "$\\displaystyle \\left(\\sigma_{ac} e^{- \\frac{o}{c}} + \\sigma_{sc} e^{- \\frac{o}{c}}\\right) \\int\\limits_{0}^{D} 1\\, dt$"
      ],
      "text/plain": [
       "(sigma_ac*exp(-o/c) + sigma_sc*exp(-o/c))*Integral(1, (t, 0, D))"
      ]
     },
     "execution_count": 81,
     "metadata": {},
     "output_type": "execute_result"
    }
   ],
   "source": [
    "i0 = sigma_t(o)*Integral(1, (t, 0, D))\n",
    "i0"
   ]
  },
  {
   "cell_type": "code",
   "execution_count": 76,
   "metadata": {},
   "outputs": [
    {
     "data": {
      "text/latex": [
       "$\\displaystyle D \\left(\\sigma_{ac} + \\sigma_{sc}\\right) e^{- \\frac{o}{c}}$"
      ],
      "text/plain": [
       "D*(sigma_ac + sigma_sc)*exp(-o/c)"
      ]
     },
     "execution_count": 76,
     "metadata": {},
     "output_type": "execute_result"
    }
   ],
   "source": [
    "simplify(i0)"
   ]
  },
  {
   "attachments": {},
   "cell_type": "markdown",
   "metadata": {},
   "source": [
    "otherwise"
   ]
  },
  {
   "cell_type": "code",
   "execution_count": 77,
   "metadata": {},
   "outputs": [
    {
     "data": {
      "text/latex": [
       "$\\displaystyle \\int\\limits_{0}^{D} \\left(\\sigma_{ac} e^{\\frac{- d t - o}{c}} + \\sigma_{sc} e^{\\frac{- d t - o}{c}}\\right)\\, dt$"
      ],
      "text/plain": [
       "Integral(sigma_ac*exp((-d*t - o)/c) + sigma_sc*exp((-d*t - o)/c), (t, 0, D))"
      ]
     },
     "execution_count": 77,
     "metadata": {},
     "output_type": "execute_result"
    }
   ],
   "source": [
    "i"
   ]
  },
  {
   "cell_type": "code",
   "execution_count": 78,
   "metadata": {},
   "outputs": [
    {
     "data": {
      "text/latex": [
       "$\\displaystyle \\begin{cases} \\frac{\\left(- c \\sigma_{ac} - c \\sigma_{sc}\\right) e^{\\frac{- D d - o}{c}}}{d} - \\frac{\\left(- c \\sigma_{ac} - c \\sigma_{sc}\\right) e^{- \\frac{o}{c}}}{d} & \\text{for}\\: d > -\\infty \\wedge d < \\infty \\wedge d \\neq 0 \\\\D \\left(\\sigma_{ac} + \\sigma_{sc}\\right) & \\text{otherwise} \\end{cases}$"
      ],
      "text/plain": [
       "Piecewise(((-c*sigma_ac - c*sigma_sc)*exp((-D*d - o)/c)/d - (-c*sigma_ac - c*sigma_sc)*exp(-o/c)/d, (d > -oo) & (d < oo) & Ne(d, 0)), (D*(sigma_ac + sigma_sc), True))"
      ]
     },
     "execution_count": 78,
     "metadata": {},
     "output_type": "execute_result"
    }
   ],
   "source": [
    "i.doit()"
   ]
  },
  {
   "cell_type": "code",
   "execution_count": 105,
   "metadata": {},
   "outputs": [
    {
     "data": {
      "text/latex": [
       "$\\displaystyle = \\frac{-(c*\\sigma_a + c*\\sigma_s)}{d} (e^{\\frac{-Dd-o}{c}} - e^{\\frac{-o}{c}})$"
      ],
      "text/plain": [
       "<IPython.core.display.Math object>"
      ]
     },
     "metadata": {},
     "output_type": "display_data"
    },
    {
     "data": {
      "text/latex": [
       "$\\displaystyle = \\frac{-(c*\\sigma_a + c*\\sigma_s)}{d} e^{\\frac{-o}{c}} (e^{\\frac{-Dd}{c}} - 1)$"
      ],
      "text/plain": [
       "<IPython.core.display.Math object>"
      ]
     },
     "metadata": {},
     "output_type": "display_data"
    },
    {
     "data": {
      "text/latex": [
       "$\\displaystyle = (c*\\sigma_a + c*\\sigma_s) e^{\\frac{-o}{c}} \\frac{(1 - e^{\\frac{-Dd}{c}})}{d}$"
      ],
      "text/plain": [
       "<IPython.core.display.Math object>"
      ]
     },
     "metadata": {},
     "output_type": "display_data"
    },
    {
     "data": {
      "text/latex": [
       "$\\displaystyle = (\\sigma_a + \\sigma_s) e^{\\frac{-o}{c}}c \\frac{(1 - e^{\\frac{-Dd}{c}})}{d}$"
      ],
      "text/plain": [
       "<IPython.core.display.Math object>"
      ]
     },
     "metadata": {},
     "output_type": "display_data"
    }
   ],
   "source": [
    "display(Math('= \\\\frac{-(c*\\\\sigma_a + c*\\\\sigma_s)}{d} (e^{\\\\frac{-Dd-o}{c}} - e^{\\\\frac{-o}{c}})'))\n",
    "display(Math('= \\\\frac{-(c*\\\\sigma_a + c*\\\\sigma_s)}{d} e^{\\\\frac{-o}{c}} (e^{\\\\frac{-Dd}{c}} - 1)'))\n",
    "display(Math('= (c*\\\\sigma_a + c*\\\\sigma_s) e^{\\\\frac{-o}{c}} \\\\frac{(1 - e^{\\\\frac{-Dd}{c}})}{d}'))\n",
    "display(Math('= (\\\\sigma_a + \\\\sigma_s) e^{\\\\frac{-o}{c}}c \\\\frac{(1 - e^{\\\\frac{-Dd}{c}})}{d}'))"
   ]
  },
  {
   "attachments": {},
   "cell_type": "markdown",
   "metadata": {},
   "source": [
    "This form is better since the first part needs to be evaluated anyways. Even if d=0. Ie: less branching is required when evaluating this in a shader\\\n",
    "(result if d=0):"
   ]
  },
  {
   "cell_type": "code",
   "execution_count": 104,
   "metadata": {},
   "outputs": [
    {
     "data": {
      "text/latex": [
       "$\\displaystyle D \\left(\\sigma_{ac} + \\sigma_{sc}\\right) e^{- \\frac{o}{c}}$"
      ],
      "text/plain": [
       "D*(sigma_ac + sigma_sc)*exp(-o/c)"
      ]
     },
     "execution_count": 104,
     "metadata": {},
     "output_type": "execute_result"
    }
   ],
   "source": [
    "simplify(i0)"
   ]
  },
  {
   "attachments": {},
   "cell_type": "markdown",
   "metadata": {},
   "source": [
    "Evaluating the limit of the second part (can also be seen when graphed) shows that this in fact does converge to the same result for d=0"
   ]
  },
  {
   "cell_type": "code",
   "execution_count": 117,
   "metadata": {},
   "outputs": [
    {
     "data": {
      "text/latex": [
       "$\\displaystyle \\lim_{d \\to 0^+}\\left(\\frac{c \\left(1 - e^{- \\frac{D d}{c}}\\right)}{d}\\right)$"
      ],
      "text/plain": [
       "Limit(c*(1 - exp(-D*d/c))/d, d, 0)"
      ]
     },
     "execution_count": 117,
     "metadata": {},
     "output_type": "execute_result"
    }
   ],
   "source": [
    "l = Limit(c*(1-exp(-D*d/c))/d, d, 0)\n",
    "l"
   ]
  },
  {
   "cell_type": "code",
   "execution_count": 118,
   "metadata": {},
   "outputs": [
    {
     "data": {
      "text/latex": [
       "$\\displaystyle D$"
      ],
      "text/plain": [
       "D"
      ]
     },
     "execution_count": 118,
     "metadata": {},
     "output_type": "execute_result"
    }
   ],
   "source": [
    "l.doit()"
   ]
  },
  {
   "attachments": {},
   "cell_type": "markdown",
   "metadata": {},
   "source": [
    "Then, the light from each point between the pixel and the camera has to be accumulated"
   ]
  },
  {
   "cell_type": "code",
   "execution_count": 60,
   "metadata": {},
   "outputs": [],
   "source": [
    "l_i, t_2 = symbols('l_i t_2')"
   ]
  },
  {
   "cell_type": "code",
   "execution_count": 61,
   "metadata": {},
   "outputs": [],
   "source": [
    "#Helper function to calculate transmittance from the origin along a direction up until a given depth\n",
    "def transmittance(o, d, D):\n",
    "    return exp(-Integral(sigma_t(o+t_2*d), (t_2, 0, D)))"
   ]
  },
  {
   "cell_type": "code",
   "execution_count": 62,
   "metadata": {},
   "outputs": [],
   "source": [
    "def L_s(y): #in scatterd light at height\n",
    "    return sigma_s(y)*l_i #just assume constant inscattering with a constanst phase function for this basic fog type"
   ]
  },
  {
   "cell_type": "code",
   "execution_count": 63,
   "metadata": {},
   "outputs": [
    {
     "data": {
      "text/latex": [
       "$\\displaystyle \\int\\limits_{0}^{D} l_{i} \\sigma_{sc} e^{\\frac{- d t - o}{c}} e^{- \\int\\limits_{0}^{t} \\left(\\sigma_{ac} e^{\\frac{- d t_{2} - o}{c}} + \\sigma_{sc} e^{\\frac{- d t_{2} - o}{c}}\\right)\\, dt_{2}}\\, dt$"
      ],
      "text/plain": [
       "Integral(l_i*sigma_sc*exp((-d*t - o)/c)*exp(-Integral(sigma_ac*exp((-d*t_2 - o)/c) + sigma_sc*exp((-d*t_2 - o)/c), (t_2, 0, t))), (t, 0, D))"
      ]
     },
     "execution_count": 63,
     "metadata": {},
     "output_type": "execute_result"
    }
   ],
   "source": [
    "i = Integral(transmittance(o, d, t) * L_s(o+t*d), (t, 0, D))\n",
    "i"
   ]
  },
  {
   "cell_type": "code",
   "execution_count": 64,
   "metadata": {},
   "outputs": [
    {
     "data": {
      "text/latex": [
       "$\\displaystyle \\begin{cases} - \\frac{l_{i} \\sigma_{sc} e^{- \\frac{\\left(- c \\sigma_{ac} - c \\sigma_{sc}\\right) e^{\\frac{- D d - o}{c}}}{d} + \\frac{\\left(- c \\sigma_{ac} - c \\sigma_{sc}\\right) e^{- \\frac{o}{c}}}{d}}}{\\sigma_{ac} + \\sigma_{sc}} + \\frac{l_{i} \\sigma_{sc}}{\\sigma_{ac} + \\sigma_{sc}} & \\text{for}\\: \\left(d > -\\infty \\wedge d < \\infty \\wedge d \\neq 0 \\wedge \\sigma_{ac} + \\sigma_{sc} \\neq 0\\right) \\vee \\left(d > -\\infty \\wedge d < \\infty \\wedge c \\neq - \\frac{d}{\\sigma_{ac} + \\sigma_{sc}} \\wedge d \\neq 0 \\wedge \\sigma_{ac} + \\sigma_{sc} \\neq 0\\right) \\\\- \\frac{c l_{i} \\sigma_{sc} e^{\\frac{- D d - o}{c}}}{d} + \\frac{c l_{i} \\sigma_{sc} e^{- \\frac{o}{c}}}{d} & \\text{for}\\: \\left(d > -\\infty \\wedge d < \\infty \\wedge d \\neq 0\\right) \\vee \\left(d > -\\infty \\wedge d < \\infty \\wedge c \\neq - \\frac{d}{\\sigma_{ac} + \\sigma_{sc}} \\wedge d \\neq 0\\right) \\\\- \\frac{c l_{i} \\sigma_{sc} e^{- \\frac{o}{c}}}{c \\sigma_{ac} e^{D \\sigma_{ac}} e^{D \\sigma_{sc}} e^{\\frac{D d}{c}} + c \\sigma_{sc} e^{D \\sigma_{ac}} e^{D \\sigma_{sc}} e^{\\frac{D d}{c}} + d e^{D \\sigma_{ac}} e^{D \\sigma_{sc}} e^{\\frac{D d}{c}}} + \\frac{c l_{i} \\sigma_{sc} e^{- \\frac{o}{c}}}{c \\sigma_{ac} + c \\sigma_{sc} + d} & \\text{for}\\: \\left(d > -\\infty \\wedge c \\neq - \\frac{d}{\\sigma_{ac} + \\sigma_{sc}}\\right) \\vee \\left(d < \\infty \\wedge c \\neq - \\frac{d}{\\sigma_{ac} + \\sigma_{sc}}\\right) \\vee \\left(c \\neq - \\frac{d}{\\sigma_{ac} + \\sigma_{sc}} \\wedge d \\neq 0\\right) \\vee \\left(c \\neq - \\frac{d}{\\sigma_{ac} + \\sigma_{sc}} \\wedge \\sigma_{ac} + \\sigma_{sc} \\neq 0\\right) \\vee \\left(d > -\\infty \\wedge d < \\infty \\wedge c \\neq - \\frac{d}{\\sigma_{ac} + \\sigma_{sc}}\\right) \\vee \\left(d > -\\infty \\wedge c \\neq - \\frac{d}{\\sigma_{ac} + \\sigma_{sc}} \\wedge d \\neq 0\\right) \\vee \\left(d > -\\infty \\wedge c \\neq - \\frac{d}{\\sigma_{ac} + \\sigma_{sc}} \\wedge \\sigma_{ac} + \\sigma_{sc} \\neq 0\\right) \\vee \\left(d < \\infty \\wedge c \\neq - \\frac{d}{\\sigma_{ac} + \\sigma_{sc}} \\wedge d \\neq 0\\right) \\vee \\left(d < \\infty \\wedge c \\neq - \\frac{d}{\\sigma_{ac} + \\sigma_{sc}} \\wedge \\sigma_{ac} + \\sigma_{sc} \\neq 0\\right) \\vee \\left(c \\neq - \\frac{d}{\\sigma_{ac} + \\sigma_{sc}} \\wedge d \\neq 0 \\wedge \\sigma_{ac} + \\sigma_{sc} \\neq 0\\right) \\vee \\left(d > -\\infty \\wedge d < \\infty \\wedge c \\neq - \\frac{d}{\\sigma_{ac} + \\sigma_{sc}} \\wedge \\sigma_{ac} + \\sigma_{sc} \\neq 0\\right) \\vee \\left(d > -\\infty \\wedge c \\neq - \\frac{d}{\\sigma_{ac} + \\sigma_{sc}} \\wedge d \\neq 0 \\wedge \\sigma_{ac} + \\sigma_{sc} \\neq 0\\right) \\vee \\left(d < \\infty \\wedge c \\neq - \\frac{d}{\\sigma_{ac} + \\sigma_{sc}} \\wedge d \\neq 0 \\wedge \\sigma_{ac} + \\sigma_{sc} \\neq 0\\right) \\vee c \\neq - \\frac{d}{\\sigma_{ac} + \\sigma_{sc}} \\\\l_{i} \\sigma_{sc} \\left(\\frac{D \\sigma_{ac}}{\\sigma_{ac} + \\sigma_{sc}} + \\frac{D \\sigma_{sc}}{\\sigma_{ac} + \\sigma_{sc}}\\right) e^{- \\frac{o}{c}} & \\text{otherwise} \\end{cases}$"
      ],
      "text/plain": [
       "Piecewise((-l_i*sigma_sc*exp(-(-c*sigma_ac - c*sigma_sc)*exp((-D*d - o)/c)/d + (-c*sigma_ac - c*sigma_sc)*exp(-o/c)/d)/(sigma_ac + sigma_sc) + l_i*sigma_sc/(sigma_ac + sigma_sc), ((d > -oo) & (d < oo) & Ne(d, 0) & Ne(sigma_ac + sigma_sc, 0)) | ((d > -oo) & (d < oo) & Ne(d, 0) & Ne(sigma_ac + sigma_sc, 0) & Ne(c, -d/(sigma_ac + sigma_sc)))), (-c*l_i*sigma_sc*exp((-D*d - o)/c)/d + c*l_i*sigma_sc*exp(-o/c)/d, ((d > -oo) & (d < oo) & Ne(d, 0)) | ((d > -oo) & (d < oo) & Ne(d, 0) & Ne(c, -d/(sigma_ac + sigma_sc)))), (-c*l_i*sigma_sc*exp(-o/c)/(c*sigma_ac*exp(D*sigma_ac)*exp(D*sigma_sc)*exp(D*d/c) + c*sigma_sc*exp(D*sigma_ac)*exp(D*sigma_sc)*exp(D*d/c) + d*exp(D*sigma_ac)*exp(D*sigma_sc)*exp(D*d/c)) + c*l_i*sigma_sc*exp(-o/c)/(c*sigma_ac + c*sigma_sc + d), Ne(c, -d/(sigma_ac + sigma_sc)) | ((d > -oo) & Ne(c, -d/(sigma_ac + sigma_sc))) | ((d < oo) & Ne(c, -d/(sigma_ac + sigma_sc))) | (Ne(d, 0) & Ne(c, -d/(sigma_ac + sigma_sc))) | (Ne(sigma_ac + sigma_sc, 0) & Ne(c, -d/(sigma_ac + sigma_sc))) | ((d > -oo) & (d < oo) & Ne(c, -d/(sigma_ac + sigma_sc))) | ((d > -oo) & Ne(d, 0) & Ne(c, -d/(sigma_ac + sigma_sc))) | ((d < oo) & Ne(d, 0) & Ne(c, -d/(sigma_ac + sigma_sc))) | ((d > -oo) & Ne(sigma_ac + sigma_sc, 0) & Ne(c, -d/(sigma_ac + sigma_sc))) | ((d < oo) & Ne(sigma_ac + sigma_sc, 0) & Ne(c, -d/(sigma_ac + sigma_sc))) | (Ne(d, 0) & Ne(sigma_ac + sigma_sc, 0) & Ne(c, -d/(sigma_ac + sigma_sc))) | ((d > -oo) & (d < oo) & Ne(sigma_ac + sigma_sc, 0) & Ne(c, -d/(sigma_ac + sigma_sc))) | ((d > -oo) & Ne(d, 0) & Ne(sigma_ac + sigma_sc, 0) & Ne(c, -d/(sigma_ac + sigma_sc))) | ((d < oo) & Ne(d, 0) & Ne(sigma_ac + sigma_sc, 0) & Ne(c, -d/(sigma_ac + sigma_sc)))), (l_i*sigma_sc*(D*sigma_ac/(sigma_ac + sigma_sc) + D*sigma_sc/(sigma_ac + sigma_sc))*exp(-o/c), True))"
      ]
     },
     "execution_count": 64,
     "metadata": {},
     "output_type": "execute_result"
    }
   ],
   "source": [
    "i = i.doit()\n",
    "i"
   ]
  },
  {
   "cell_type": "code",
   "execution_count": 65,
   "metadata": {},
   "outputs": [],
   "source": [
    "i2 = i.args[0][0]"
   ]
  },
  {
   "cell_type": "code",
   "execution_count": 66,
   "metadata": {},
   "outputs": [
    {
     "data": {
      "text/latex": [
       "$\\displaystyle \\frac{l_{i} \\sigma_{sc} \\left(1 - e^{- \\frac{c \\left(1 - e^{- \\frac{D d}{c}}\\right) \\left(\\sigma_{ac} + \\sigma_{sc}\\right) e^{- \\frac{o}{c}}}{d}}\\right)}{\\sigma_{ac} + \\sigma_{sc}}$"
      ],
      "text/plain": [
       "l_i*sigma_sc*(1 - exp(-c*(1 - exp(-D*d/c))*(sigma_ac + sigma_sc)*exp(-o/c)/d))/(sigma_ac + sigma_sc)"
      ]
     },
     "execution_count": 66,
     "metadata": {},
     "output_type": "execute_result"
    }
   ],
   "source": [
    "simplify(i2)"
   ]
  },
  {
   "cell_type": "code",
   "execution_count": null,
   "metadata": {},
   "outputs": [],
   "source": []
  }
 ],
 "metadata": {
  "kernelspec": {
   "display_name": "Python 3",
   "language": "python",
   "name": "python3"
  },
  "language_info": {
   "codemirror_mode": {
    "name": "ipython",
    "version": 3
   },
   "file_extension": ".py",
   "mimetype": "text/x-python",
   "name": "python",
   "nbconvert_exporter": "python",
   "pygments_lexer": "ipython3",
   "version": "3.9.5"
  },
  "orig_nbformat": 4,
  "vscode": {
   "interpreter": {
    "hash": "085c51388782ab7dcc7b32a500f9634129d1cddb82cd7a37058a5984251a0bc1"
   }
  }
 },
 "nbformat": 4,
 "nbformat_minor": 2
}
