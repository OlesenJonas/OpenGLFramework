{
 "cells": [
  {
   "cell_type": "code",
   "execution_count": 159,
   "metadata": {},
   "outputs": [],
   "source": [
    "from sympy import *\n",
    "from IPython.display import display"
   ]
  },
  {
   "cell_type": "code",
   "execution_count": 160,
   "metadata": {},
   "outputs": [],
   "source": [
    "#init_printing()"
   ]
  },
  {
   "attachments": {},
   "cell_type": "markdown",
   "metadata": {},
   "source": [
    "Resulting light = light coming from pixel * transmittance + integral over all points inbetween of (light coming from that point * transmittance from that point to camera)"
   ]
  },
  {
   "attachments": {},
   "cell_type": "markdown",
   "metadata": {},
   "source": [
    "Cryteks \"exponential height fog\" is used to simply scale the constants $\\sigma_{a,c}$ and $\\sigma_{s,c}$ depending on the height:"
   ]
  },
  {
   "cell_type": "code",
   "execution_count": 161,
   "metadata": {},
   "outputs": [],
   "source": [
    "c, sigma_ac, sigma_sc = symbols('c sigma_ac sigma_sc')"
   ]
  },
  {
   "cell_type": "code",
   "execution_count": 162,
   "metadata": {},
   "outputs": [],
   "source": [
    "def sigma_a(y):\n",
    "    return sigma_ac*exp(-c*y)\n",
    "def sigma_s(y):\n",
    "    return sigma_sc*exp(-c*y)"
   ]
  },
  {
   "cell_type": "code",
   "execution_count": 163,
   "metadata": {},
   "outputs": [],
   "source": [
    "def sigma_t(y):\n",
    "    return sigma_a(y) + sigma_s(y)"
   ]
  },
  {
   "attachments": {},
   "cell_type": "markdown",
   "metadata": {},
   "source": [
    "Transmittance from pixel to camera:"
   ]
  },
  {
   "cell_type": "code",
   "execution_count": 164,
   "metadata": {},
   "outputs": [],
   "source": [
    "o, t, d, D = symbols('o t d D')"
   ]
  },
  {
   "cell_type": "code",
   "execution_count": 213,
   "metadata": {},
   "outputs": [
    {
     "data": {
      "text/latex": [
       "$\\displaystyle \\int\\limits_{0}^{D} \\left(\\sigma_{ac} e^{- c \\left(d t + o\\right)} + \\sigma_{sc} e^{- c \\left(d t + o\\right)}\\right)\\, dt$"
      ],
      "text/plain": [
       "Integral(sigma_ac*exp(-c*(d*t + o)) + sigma_sc*exp(-c*(d*t + o)), (t, 0, D))"
      ]
     },
     "execution_count": 213,
     "metadata": {},
     "output_type": "execute_result"
    }
   ],
   "source": [
    "i = Integral(sigma_t(o+t*d), (t, 0, D))\n",
    "i"
   ]
  },
  {
   "cell_type": "code",
   "execution_count": 214,
   "metadata": {},
   "outputs": [
    {
     "data": {
      "text/latex": [
       "$\\displaystyle \\begin{cases} \\frac{\\left(- \\sigma_{ac} - \\sigma_{sc}\\right) e^{- c \\left(D d + o\\right)}}{c d} - \\frac{\\left(- \\sigma_{ac} - \\sigma_{sc}\\right) e^{- c o}}{c d} & \\text{for}\\: c d \\neq 0 \\\\D \\left(\\sigma_{ac} + \\sigma_{sc}\\right) & \\text{otherwise} \\end{cases}$"
      ],
      "text/plain": [
       "Piecewise(((-sigma_ac - sigma_sc)*exp(-c*(D*d + o))/(c*d) - (-sigma_ac - sigma_sc)*exp(-c*o)/(c*d), Ne(c*d, 0)), (D*(sigma_ac + sigma_sc), True))"
      ]
     },
     "execution_count": 214,
     "metadata": {},
     "output_type": "execute_result"
    }
   ],
   "source": [
    "i.doit()"
   ]
  },
  {
   "attachments": {},
   "cell_type": "markdown",
   "metadata": {},
   "source": [
    "After some transformations it is obvious that this is equal to the formula used in the crytek paper"
   ]
  },
  {
   "cell_type": "code",
   "execution_count": 167,
   "metadata": {},
   "outputs": [
    {
     "data": {
      "text/latex": [
       "$\\displaystyle \\frac{\\left(1 - e^{- D c d}\\right) \\left(\\sigma_{ac} + \\sigma_{sc}\\right) e^{- c o}}{c d}$"
      ],
      "text/plain": [
       "(1 - exp(-D*c*d))*(sigma_ac + sigma_sc)*exp(-c*o)/(c*d)"
      ]
     },
     "execution_count": 167,
     "metadata": {},
     "output_type": "execute_result"
    }
   ],
   "source": [
    "(sigma_ac+sigma_sc)*exp(-c*o)*(1-exp(-c*D*d))/(c*d)"
   ]
  },
  {
   "attachments": {},
   "cell_type": "markdown",
   "metadata": {},
   "source": [
    "Then, the light from each point between the pixel and the camera has to be accumulated"
   ]
  },
  {
   "cell_type": "code",
   "execution_count": 168,
   "metadata": {},
   "outputs": [],
   "source": [
    "l_i, t_2 = symbols('l_i t_2')"
   ]
  },
  {
   "cell_type": "code",
   "execution_count": 172,
   "metadata": {},
   "outputs": [],
   "source": [
    "#Helper function to calculate transmittance from the origin along a direction up until a given depth\n",
    "def transmittance(o, d, D):\n",
    "    return exp(-Integral(sigma_t(o+t_2*d), (t_2, 0, D)))"
   ]
  },
  {
   "cell_type": "code",
   "execution_count": 200,
   "metadata": {},
   "outputs": [],
   "source": [
    "def L_s(y): #in scatterd light at height\n",
    "    return sigma_s(y)*l_i #just assume constant inscattering with a constanst phase function for this basic fog type"
   ]
  },
  {
   "cell_type": "code",
   "execution_count": 201,
   "metadata": {},
   "outputs": [
    {
     "data": {
      "text/latex": [
       "$\\displaystyle \\int\\limits_{0}^{D} l_{i} \\sigma_{sc} e^{- c \\left(d t + o\\right)} e^{- \\int\\limits_{0}^{t} \\left(\\sigma_{ac} e^{- c \\left(d t_{2} + o\\right)} + \\sigma_{sc} e^{- c \\left(d t_{2} + o\\right)}\\right)\\, dt_{2}}\\, dt$"
      ],
      "text/plain": [
       "Integral(l_i*sigma_sc*exp(-c*(d*t + o))*exp(-Integral(sigma_ac*exp(-c*(d*t_2 + o)) + sigma_sc*exp(-c*(d*t_2 + o)), (t_2, 0, t))), (t, 0, D))"
      ]
     },
     "execution_count": 201,
     "metadata": {},
     "output_type": "execute_result"
    }
   ],
   "source": [
    "i = Integral(transmittance(o, d, t) * L_s(o+t*d), (t, 0, D))\n",
    "i"
   ]
  },
  {
   "cell_type": "code",
   "execution_count": 207,
   "metadata": {},
   "outputs": [
    {
     "data": {
      "text/latex": [
       "$\\displaystyle \\begin{cases} - \\frac{l_{i} \\sigma_{sc} e^{- \\frac{\\left(- \\sigma_{ac} - \\sigma_{sc}\\right) e^{- c \\left(D d + o\\right)}}{c d} + \\frac{\\left(- \\sigma_{ac} - \\sigma_{sc}\\right) e^{- c o}}{c d}}}{\\sigma_{ac} + \\sigma_{sc}} + \\frac{l_{i} \\sigma_{sc}}{\\sigma_{ac} + \\sigma_{sc}} & \\text{for}\\: \\left(c d \\neq 0 \\wedge \\sigma_{ac} + \\sigma_{sc} \\neq 0\\right) \\vee \\left(c \\neq - \\frac{\\sigma_{ac}}{d} - \\frac{\\sigma_{sc}}{d} \\wedge c d \\neq 0 \\wedge \\sigma_{ac} + \\sigma_{sc} \\neq 0\\right) \\\\- \\frac{l_{i} \\sigma_{sc} e^{- c \\left(D d + o\\right)}}{c d} + \\frac{l_{i} \\sigma_{sc} e^{- c o}}{c d} & \\text{for}\\: \\left(c \\neq - \\frac{\\sigma_{ac}}{d} - \\frac{\\sigma_{sc}}{d} \\wedge c d \\neq 0\\right) \\vee c d \\neq 0 \\\\- \\frac{l_{i} \\sigma_{sc} e^{- c o}}{c d e^{D \\sigma_{ac}} e^{D \\sigma_{sc}} e^{D c d} + \\sigma_{ac} e^{D \\sigma_{ac}} e^{D \\sigma_{sc}} e^{D c d} + \\sigma_{sc} e^{D \\sigma_{ac}} e^{D \\sigma_{sc}} e^{D c d}} + \\frac{l_{i} \\sigma_{sc} e^{- c o}}{c d + \\sigma_{ac} + \\sigma_{sc}} & \\text{for}\\: \\left(c \\neq - \\frac{\\sigma_{ac}}{d} - \\frac{\\sigma_{sc}}{d} \\wedge \\sigma_{ac} + \\sigma_{sc} \\neq 0\\right) \\vee c \\neq - \\frac{\\sigma_{ac}}{d} - \\frac{\\sigma_{sc}}{d} \\\\l_{i} \\sigma_{sc} \\left(\\frac{D \\sigma_{ac}}{\\sigma_{ac} + \\sigma_{sc}} + \\frac{D \\sigma_{sc}}{\\sigma_{ac} + \\sigma_{sc}}\\right) e^{- c o} & \\text{otherwise} \\end{cases}$"
      ],
      "text/plain": [
       "Piecewise((-l_i*sigma_sc*exp(-(-sigma_ac - sigma_sc)*exp(-c*(D*d + o))/(c*d) + (-sigma_ac - sigma_sc)*exp(-c*o)/(c*d))/(sigma_ac + sigma_sc) + l_i*sigma_sc/(sigma_ac + sigma_sc), (Ne(c*d, 0) & Ne(sigma_ac + sigma_sc, 0)) | (Ne(c*d, 0) & Ne(sigma_ac + sigma_sc, 0) & Ne(c, -sigma_ac/d - sigma_sc/d))), (-l_i*sigma_sc*exp(-c*(D*d + o))/(c*d) + l_i*sigma_sc*exp(-c*o)/(c*d), Ne(c*d, 0) | (Ne(c*d, 0) & Ne(c, -sigma_ac/d - sigma_sc/d))), (-l_i*sigma_sc*exp(-c*o)/(c*d*exp(D*sigma_ac)*exp(D*sigma_sc)*exp(D*c*d) + sigma_ac*exp(D*sigma_ac)*exp(D*sigma_sc)*exp(D*c*d) + sigma_sc*exp(D*sigma_ac)*exp(D*sigma_sc)*exp(D*c*d)) + l_i*sigma_sc*exp(-c*o)/(c*d + sigma_ac + sigma_sc), Ne(c, -sigma_ac/d - sigma_sc/d) | (Ne(sigma_ac + sigma_sc, 0) & Ne(c, -sigma_ac/d - sigma_sc/d))), (l_i*sigma_sc*(D*sigma_ac/(sigma_ac + sigma_sc) + D*sigma_sc/(sigma_ac + sigma_sc))*exp(-c*o), True))"
      ]
     },
     "execution_count": 207,
     "metadata": {},
     "output_type": "execute_result"
    }
   ],
   "source": [
    "i = i.doit()\n",
    "i"
   ]
  },
  {
   "cell_type": "code",
   "execution_count": 210,
   "metadata": {},
   "outputs": [],
   "source": [
    "i2 = i.args[0][0]"
   ]
  },
  {
   "cell_type": "code",
   "execution_count": 211,
   "metadata": {},
   "outputs": [
    {
     "data": {
      "text/latex": [
       "$\\displaystyle \\frac{l_{i} \\sigma_{sc} \\left(1 - e^{\\frac{\\left(\\sigma_{ac} + \\sigma_{sc}\\right) \\left(e^{c o} - e^{c \\left(D d + o\\right)}\\right) e^{- c \\left(D d + 2 o\\right)}}{c d}}\\right)}{\\sigma_{ac} + \\sigma_{sc}}$"
      ],
      "text/plain": [
       "l_i*sigma_sc*(1 - exp((sigma_ac + sigma_sc)*(exp(c*o) - exp(c*(D*d + o)))*exp(-c*(D*d + 2*o))/(c*d)))/(sigma_ac + sigma_sc)"
      ]
     },
     "execution_count": 211,
     "metadata": {},
     "output_type": "execute_result"
    }
   ],
   "source": [
    "simplify(i2)"
   ]
  },
  {
   "cell_type": "code",
   "execution_count": null,
   "metadata": {},
   "outputs": [],
   "source": []
  }
 ],
 "metadata": {
  "kernelspec": {
   "display_name": "Python 3",
   "language": "python",
   "name": "python3"
  },
  "language_info": {
   "codemirror_mode": {
    "name": "ipython",
    "version": 3
   },
   "file_extension": ".py",
   "mimetype": "text/x-python",
   "name": "python",
   "nbconvert_exporter": "python",
   "pygments_lexer": "ipython3",
   "version": "3.9.5"
  },
  "orig_nbformat": 4,
  "vscode": {
   "interpreter": {
    "hash": "085c51388782ab7dcc7b32a500f9634129d1cddb82cd7a37058a5984251a0bc1"
   }
  }
 },
 "nbformat": 4,
 "nbformat_minor": 2
}
