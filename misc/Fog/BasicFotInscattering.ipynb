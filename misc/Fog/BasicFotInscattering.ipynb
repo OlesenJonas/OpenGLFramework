{
 "cells": [
  {
   "cell_type": "code",
   "execution_count": 3,
   "metadata": {},
   "outputs": [],
   "source": [
    "from sympy import *"
   ]
  },
  {
   "cell_type": "code",
   "execution_count": 4,
   "metadata": {},
   "outputs": [],
   "source": [
    "c, s, D, d, o, t = symbols('c s D d o t')"
   ]
  },
  {
   "cell_type": "code",
   "execution_count": 5,
   "metadata": {},
   "outputs": [],
   "source": [
    "def s_t(y):\n",
    "    return s*exp(-c*y)"
   ]
  },
  {
   "cell_type": "code",
   "execution_count": 21,
   "metadata": {},
   "outputs": [],
   "source": [
    "i = integrate(s_t(o+t*d)*D, (t, 0, 1))"
   ]
  },
  {
   "cell_type": "code",
   "execution_count": 22,
   "metadata": {},
   "outputs": [
    {
     "data": {
      "text/latex": [
       "$\\displaystyle \\begin{cases} - \\frac{D s e^{- c \\left(d + o\\right)}}{c d} + \\frac{D s e^{- c o}}{c d} & \\text{for}\\: c d \\neq 0 \\\\D s & \\text{otherwise} \\end{cases}$"
      ],
      "text/plain": [
       "Piecewise((-D*s*exp(-c*(d + o))/(c*d) + D*s*exp(-c*o)/(c*d), Ne(c*d, 0)), (D*s, True))"
      ]
     },
     "execution_count": 22,
     "metadata": {},
     "output_type": "execute_result"
    }
   ],
   "source": [
    "i"
   ]
  },
  {
   "cell_type": "code",
   "execution_count": 23,
   "metadata": {},
   "outputs": [
    {
     "data": {
      "text/latex": [
       "$\\displaystyle \\begin{cases} \\frac{D s \\left(e^{c d} - 1\\right) e^{- c \\left(d + o\\right)}}{c d} & \\text{for}\\: c d \\neq 0 \\\\D s & \\text{otherwise} \\end{cases}$"
      ],
      "text/plain": [
       "Piecewise((D*s*(exp(c*d) - 1)*exp(-c*(d + o))/(c*d), Ne(c*d, 0)), (D*s, True))"
      ]
     },
     "execution_count": 23,
     "metadata": {},
     "output_type": "execute_result"
    }
   ],
   "source": [
    "simplify(i)"
   ]
  },
  {
   "cell_type": "code",
   "execution_count": 27,
   "metadata": {},
   "outputs": [],
   "source": [
    "crytekResult = s*exp(-c*o) * D * (1-exp(-c*d))/(c*d)"
   ]
  },
  {
   "cell_type": "code",
   "execution_count": 33,
   "metadata": {},
   "outputs": [
    {
     "data": {
      "text/latex": [
       "$\\displaystyle \\frac{D s \\left(e^{c d} - 1\\right) e^{- c \\left(d + o\\right)}}{c d}$"
      ],
      "text/plain": [
       "D*s*(exp(c*d) - 1)*exp(-c*(d + o))/(c*d)"
      ]
     },
     "execution_count": 33,
     "metadata": {},
     "output_type": "execute_result"
    }
   ],
   "source": [
    "simplify(crytekResult)"
   ]
  },
  {
   "cell_type": "code",
   "execution_count": null,
   "metadata": {},
   "outputs": [],
   "source": []
  }
 ],
 "metadata": {
  "kernelspec": {
   "display_name": "Python 3",
   "language": "python",
   "name": "python3"
  },
  "language_info": {
   "codemirror_mode": {
    "name": "ipython",
    "version": 3
   },
   "file_extension": ".py",
   "mimetype": "text/x-python",
   "name": "python",
   "nbconvert_exporter": "python",
   "pygments_lexer": "ipython3",
   "version": "3.9.5"
  },
  "orig_nbformat": 4,
  "vscode": {
   "interpreter": {
    "hash": "085c51388782ab7dcc7b32a500f9634129d1cddb82cd7a37058a5984251a0bc1"
   }
  }
 },
 "nbformat": 4,
 "nbformat_minor": 2
}
